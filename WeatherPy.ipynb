{
 "cells": [
  {
   "cell_type": "markdown",
   "metadata": {},
   "source": [
    "# WeatherPy\n",
    "----\n",
    "\n",
    "#### Note\n",
    "* Instructions have been included for each segment. You do not have to follow them exactly, but they are included to help you think through the steps."
   ]
  },
  {
   "cell_type": "code",
   "execution_count": 75,
   "metadata": {
    "scrolled": true
   },
   "outputs": [],
   "source": [
    "# Dependencies and Setup\n",
    "import matplotlib.pyplot as plt\n",
    "import pandas as pd\n",
    "import numpy as np\n",
    "import requests\n",
    "import time\n",
    "from scipy.stats import linregress\n",
    "from scipy import stats\n",
    "import pprint as pprint\n",
    "\n",
    "# Import API key\n",
    "from api_keys import weather_api_key\n",
    "\n",
    "# Incorporated citipy to determine city based on latitude and longitude\n",
    "from citipy import citipy\n",
    "\n",
    "# Output File (CSV)\n",
    "output_data_file = \"output_data/cities.csv\"\n",
    "\n",
    "# Range of latitudes and longitudes\n",
    "lat_range = (-90, 90)\n",
    "lng_range = (-180, 180)"
   ]
  },
  {
   "cell_type": "markdown",
   "metadata": {},
   "source": [
    "## Generate Cities List"
   ]
  },
  {
   "cell_type": "code",
   "execution_count": 76,
   "metadata": {},
   "outputs": [
    {
     "data": {
      "text/plain": [
       "597"
      ]
     },
     "execution_count": 76,
     "metadata": {},
     "output_type": "execute_result"
    }
   ],
   "source": [
    "# List for holding lat_lngs and cities\n",
    "lat_lngs = []\n",
    "cities = []\n",
    "\n",
    "# Create a set of random lat and lng combinations\n",
    "lats = np.random.uniform(lat_range[0], lat_range[1], size=1500)\n",
    "lngs = np.random.uniform(lng_range[0], lng_range[1], size=1500)\n",
    "lat_lngs = zip(lats, lngs)\n",
    "\n",
    "# Identify nearest city for each lat, lng combination\n",
    "for lat_lng in lat_lngs:\n",
    "    city = citipy.nearest_city(lat_lng[0], lat_lng[1]).city_name\n",
    "    \n",
    "    # If the city is unique, then add it to a our cities list\n",
    "    if city not in cities:\n",
    "        cities.append(city)\n",
    "\n",
    "# Print the city count to confirm sufficient count\n",
    "len(cities)\n",
    "\n",
    "#check to see what this is actually collecting\n",
    "#cities"
   ]
  },
  {
   "cell_type": "markdown",
   "metadata": {},
   "source": [
    "### Perform API Calls\n",
    "* Perform a weather check on each city using a series of successive API calls.\n",
    "* Include a print log of each city as it'sbeing processed (with the city number and city name).\n"
   ]
  },
  {
   "cell_type": "code",
   "execution_count": 77,
   "metadata": {},
   "outputs": [],
   "source": [
    "#url for weather data\n",
    "url = \"http://api.openweathermap.org/data/2.5/weather?\""
   ]
  },
  {
   "cell_type": "code",
   "execution_count": 78,
   "metadata": {},
   "outputs": [
    {
     "name": "stdout",
     "output_type": "stream",
     "text": [
      "Beginning Data Retrieval\n",
      "-----------------------------\n",
      "Processing Record 1 of Set  | namibe\n",
      "Processing Record 2 of Set  | bluff\n",
      "Processing Record 3 of Set  | oussouye\n",
      "Processing Record 4 of Set  | georgetown\n",
      "Processing Record 5 of Set  | hermanus\n",
      "Processing Record 6 of Set  | guerrero negro\n",
      "Processing Record 7 of Set  | port alfred\n",
      "Processing Record 8 of Set  | tommot\n",
      "Processing Record 9 of Set  | rikitea\n",
      "Processing Record 10 of Set  | tasiilaq\n",
      "Processing Record 11 of Set  | baruun-urt\n",
      "Processing Record 12 of Set  | mataura\n",
      "Processing Record 13 of Set  | mount isa\n",
      "Processing Record 14 of Set  | kapaa\n",
      "Processing Record 15 of Set  | busselton\n",
      "City not found. Skipping...\n",
      "City not found. Skipping...\n",
      "Processing Record 18 of Set  | bredasdorp\n",
      "Processing Record 19 of Set  | olafsvik\n",
      "Processing Record 20 of Set  | palana\n",
      "Processing Record 21 of Set  | magadan\n",
      "Processing Record 22 of Set  | tiksi\n",
      "Processing Record 23 of Set  | ribeira grande\n",
      "Processing Record 24 of Set  | chokurdakh\n",
      "Processing Record 25 of Set  | santa maria del oro\n",
      "City not found. Skipping...\n",
      "Processing Record 27 of Set  | hilo\n",
      "Processing Record 28 of Set  | fairbanks\n",
      "Processing Record 29 of Set  | huanuco\n",
      "Processing Record 30 of Set  | sampit\n",
      "Processing Record 31 of Set  | ponta do sol\n",
      "Processing Record 32 of Set  | puno\n",
      "Processing Record 33 of Set  | dongli\n",
      "Processing Record 34 of Set  | port elizabeth\n",
      "Processing Record 35 of Set  | ushuaia\n",
      "Processing Record 36 of Set  | kulhudhuffushi\n",
      "Processing Record 37 of Set  | pandamatenga\n",
      "Processing Record 38 of Set  | ilulissat\n",
      "City not found. Skipping...\n",
      "Processing Record 40 of Set  | bagdarin\n",
      "Processing Record 41 of Set  | atuona\n",
      "Processing Record 42 of Set  | mount gambier\n",
      "Processing Record 43 of Set  | saint-augustin\n",
      "Processing Record 44 of Set  | albany\n",
      "Processing Record 45 of Set  | jamestown\n",
      "Processing Record 46 of Set  | aykhal\n",
      "Processing Record 47 of Set  | pochutla\n",
      "Processing Record 48 of Set  | inuvik\n",
      "Processing Record 49 of Set  | inhambane\n",
      "Processing Record 50 of Set  | zhigansk\n",
      "City not found. Skipping...\n",
      "Processing Record 52 of Set  | iberia\n",
      "Processing Record 53 of Set  | khani\n",
      "Processing Record 54 of Set  | fortuna\n",
      "Processing Record 55 of Set  | ulaangom\n",
      "Processing Record 56 of Set  | anadyr\n",
      "Processing Record 57 of Set  | tuatapere\n",
      "Processing Record 58 of Set  | narsaq\n",
      "Processing Record 59 of Set  | tuktoyaktuk\n",
      "Processing Record 60 of Set  | muravlenko\n",
      "Processing Record 61 of Set  | faya\n",
      "Processing Record 62 of Set  | road town\n",
      "Processing Record 63 of Set  | qaanaaq\n",
      "City not found. Skipping...\n",
      "Processing Record 65 of Set  | kaitangata\n",
      "City not found. Skipping...\n",
      "City not found. Skipping...\n",
      "Processing Record 68 of Set  | arya\n",
      "Processing Record 69 of Set  | christchurch\n",
      "Processing Record 70 of Set  | moranbah\n",
      "Processing Record 71 of Set  | arraial do cabo\n",
      "Processing Record 72 of Set  | abu dhabi\n",
      "City not found. Skipping...\n",
      "Processing Record 74 of Set  | pisco\n",
      "Processing Record 75 of Set  | plettenberg bay\n",
      "Processing Record 76 of Set  | kaspiyskiy\n",
      "Processing Record 77 of Set  | anchorage\n",
      "Processing Record 78 of Set  | garissa\n",
      "Processing Record 79 of Set  | longyearbyen\n",
      "Processing Record 80 of Set  | casambalangan\n",
      "Processing Record 81 of Set  | sitka\n",
      "Processing Record 82 of Set  | victoria\n",
      "City not found. Skipping...\n",
      "Processing Record 84 of Set  | tura\n",
      "Processing Record 85 of Set  | tukrah\n",
      "Processing Record 86 of Set  | lagoa\n",
      "Processing Record 87 of Set  | itarema\n",
      "Processing Record 88 of Set  | makakilo city\n",
      "Processing Record 89 of Set  | avarua\n",
      "Processing Record 90 of Set  | jacqueville\n",
      "Processing Record 91 of Set  | akhmim\n",
      "Processing Record 92 of Set  | harper\n",
      "Processing Record 93 of Set  | kungurtug\n",
      "Processing Record 94 of Set  | punta arenas\n",
      "Processing Record 95 of Set  | samana\n",
      "Processing Record 96 of Set  | hobart\n",
      "Processing Record 97 of Set  | saint anthony\n",
      "Processing Record 98 of Set  | haines junction\n",
      "Processing Record 99 of Set  | bambanglipuro\n",
      "City not found. Skipping...\n",
      "Processing Record 101 of Set  | vaini\n",
      "Processing Record 102 of Set  | carnarvon\n",
      "Processing Record 103 of Set  | hibbing\n",
      "Processing Record 104 of Set  | tiznit\n",
      "Processing Record 105 of Set  | katsuura\n",
      "Processing Record 106 of Set  | clyde river\n",
      "Processing Record 107 of Set  | karema\n",
      "City not found. Skipping...\n",
      "Processing Record 109 of Set  | bethel\n",
      "Processing Record 110 of Set  | mahebourg\n",
      "Processing Record 111 of Set  | vagur\n",
      "Processing Record 112 of Set  | berdigestyakh\n",
      "Processing Record 113 of Set  | kayerkan\n",
      "Processing Record 114 of Set  | vicksburg\n",
      "Processing Record 115 of Set  | kruisfontein\n",
      "Processing Record 116 of Set  | urucara\n",
      "City not found. Skipping...\n",
      "Processing Record 118 of Set  | burnie\n",
      "Processing Record 119 of Set  | broome\n",
      "Processing Record 120 of Set  | airai\n",
      "Processing Record 121 of Set  | tateyama\n",
      "Processing Record 122 of Set  | mahibadhoo\n",
      "Processing Record 123 of Set  | san andres\n",
      "Processing Record 124 of Set  | sinnamary\n",
      "Processing Record 125 of Set  | fukuma\n",
      "Processing Record 126 of Set  | sao filipe\n",
      "Processing Record 127 of Set  | galle\n",
      "Processing Record 128 of Set  | salalah\n",
      "Processing Record 129 of Set  | awjilah\n",
      "Processing Record 130 of Set  | kipushi\n",
      "Processing Record 131 of Set  | prince rupert\n",
      "Processing Record 132 of Set  | lorengau\n",
      "Processing Record 133 of Set  | hamada\n",
      "Processing Record 134 of Set  | cabedelo\n",
      "Processing Record 135 of Set  | puerto ayora\n",
      "Processing Record 136 of Set  | sulangan\n",
      "Processing Record 137 of Set  | lompoc\n",
      "Processing Record 138 of Set  | emba\n",
      "Processing Record 139 of Set  | dicabisagan\n",
      "City not found. Skipping...\n",
      "Processing Record 141 of Set  | aswan\n",
      "Processing Record 142 of Set  | souillac\n",
      "Processing Record 143 of Set  | upernavik\n",
      "Processing Record 144 of Set  | port macquarie\n",
      "Processing Record 145 of Set  | thompson\n",
      "Processing Record 146 of Set  | buraydah\n",
      "Processing Record 147 of Set  | khatanga\n",
      "City not found. Skipping...\n",
      "Processing Record 149 of Set  | nampula\n",
      "Processing Record 150 of Set  | rio gallegos\n",
      "Processing Record 151 of Set  | cape town\n",
      "Processing Record 152 of Set  | constitucion\n",
      "Processing Record 153 of Set  | kasongo-lunda\n",
      "Processing Record 154 of Set  | vila velha\n",
      "City not found. Skipping...\n",
      "Processing Record 156 of Set  | lata\n",
      "Processing Record 157 of Set  | soledar\n",
      "Processing Record 158 of Set  | port hardy\n",
      "Processing Record 159 of Set  | bambous virieux\n",
      "Processing Record 160 of Set  | nago\n",
      "Processing Record 161 of Set  | bairiki\n",
      "Processing Record 162 of Set  | cabo san lucas\n",
      "Processing Record 163 of Set  | hambantota\n",
      "Processing Record 164 of Set  | yelovo\n",
      "Processing Record 165 of Set  | hasaki\n",
      "Processing Record 166 of Set  | sambava\n",
      "Processing Record 167 of Set  | vanimo\n",
      "Processing Record 168 of Set  | saskylakh\n",
      "Processing Record 169 of Set  | general roca\n",
      "Processing Record 170 of Set  | atar\n",
      "Processing Record 171 of Set  | nikolskoye\n",
      "Processing Record 172 of Set  | roma\n",
      "Processing Record 173 of Set  | maridi\n",
      "City not found. Skipping...\n",
      "City not found. Skipping...\n",
      "Processing Record 176 of Set  | sao jose da coroa grande\n",
      "Processing Record 177 of Set  | shakiso\n",
      "Processing Record 178 of Set  | leningradskiy\n",
      "City not found. Skipping...\n",
      "Processing Record 180 of Set  | pevek\n",
      "Processing Record 181 of Set  | tual\n",
      "Processing Record 182 of Set  | harindanga\n",
      "Processing Record 183 of Set  | kaeo\n",
      "City not found. Skipping...\n",
      "Processing Record 185 of Set  | aleksandrov gay\n",
      "Processing Record 186 of Set  | chicama\n",
      "Processing Record 187 of Set  | veselynove\n",
      "Processing Record 188 of Set  | shimoda\n",
      "Processing Record 189 of Set  | saint-philippe\n",
      "Processing Record 190 of Set  | herat\n",
      "Processing Record 191 of Set  | severo-kurilsk\n",
      "Processing Record 192 of Set  | lingyuan\n",
      "Processing Record 193 of Set  | nanortalik\n",
      "Processing Record 194 of Set  | saint-pierre\n",
      "Processing Record 195 of Set  | lere\n",
      "Processing Record 196 of Set  | havoysund\n",
      "Processing Record 197 of Set  | russell\n",
      "Processing Record 198 of Set  | fez\n",
      "Processing Record 199 of Set  | kabinda\n",
      "Processing Record 200 of Set  | hithadhoo\n",
      "Processing Record 201 of Set  | dikson\n",
      "Processing Record 202 of Set  | grindavik\n",
      "Processing Record 203 of Set  | labuan\n",
      "Processing Record 204 of Set  | norman wells\n",
      "City not found. Skipping...\n",
      "City not found. Skipping...\n"
     ]
    },
    {
     "name": "stdout",
     "output_type": "stream",
     "text": [
      "Processing Record 207 of Set  | provideniya\n",
      "Processing Record 208 of Set  | bubaque\n",
      "Processing Record 209 of Set  | sol-iletsk\n",
      "Processing Record 210 of Set  | aripuana\n",
      "Processing Record 211 of Set  | huarmey\n",
      "Processing Record 212 of Set  | labuhan\n",
      "Processing Record 213 of Set  | high level\n",
      "Processing Record 214 of Set  | puerto colombia\n",
      "Processing Record 215 of Set  | mareeba\n",
      "Processing Record 216 of Set  | puerto baquerizo moreno\n",
      "Processing Record 217 of Set  | barrow\n",
      "Processing Record 218 of Set  | castro\n",
      "Processing Record 219 of Set  | coahuayana\n",
      "Processing Record 220 of Set  | vestmannaeyjar\n",
      "Processing Record 221 of Set  | kavaratti\n",
      "Processing Record 222 of Set  | biak\n",
      "Processing Record 223 of Set  | sulejowek\n",
      "Processing Record 224 of Set  | san cristobal\n",
      "Processing Record 225 of Set  | north battleford\n",
      "Processing Record 226 of Set  | qaqortoq\n",
      "Processing Record 227 of Set  | crimmitschau\n",
      "Processing Record 228 of Set  | ngaoundere\n",
      "Processing Record 229 of Set  | mitchell\n",
      "Processing Record 230 of Set  | mar del plata\n",
      "City not found. Skipping...\n",
      "Processing Record 232 of Set  | saldanha\n",
      "Processing Record 233 of Set  | semirom\n",
      "Processing Record 234 of Set  | yinchuan\n",
      "Processing Record 235 of Set  | skjervoy\n",
      "Processing Record 236 of Set  | acapulco\n",
      "Processing Record 237 of Set  | saint-joseph\n",
      "Processing Record 238 of Set  | marsh harbour\n",
      "Processing Record 239 of Set  | alofi\n",
      "Processing Record 240 of Set  | kalmar\n",
      "Processing Record 241 of Set  | saint george\n",
      "Processing Record 242 of Set  | mayo\n",
      "Processing Record 243 of Set  | olinda\n",
      "Processing Record 244 of Set  | palembang\n",
      "Processing Record 245 of Set  | jabinyanah\n",
      "Processing Record 246 of Set  | portsmouth\n",
      "Processing Record 247 of Set  | caravelas\n",
      "Processing Record 248 of Set  | muncar\n",
      "Processing Record 249 of Set  | ixtapa\n",
      "Processing Record 250 of Set  | kesinga\n",
      "Processing Record 251 of Set  | turukhansk\n",
      "Processing Record 252 of Set  | floriano\n",
      "Processing Record 253 of Set  | friesoythe\n",
      "Processing Record 254 of Set  | myingyan\n",
      "Processing Record 255 of Set  | meulaboh\n",
      "Processing Record 256 of Set  | dalbandin\n",
      "Processing Record 257 of Set  | maturin\n",
      "Processing Record 258 of Set  | jurado\n",
      "Processing Record 259 of Set  | yellowknife\n",
      "Processing Record 260 of Set  | taganak\n",
      "Processing Record 261 of Set  | zalantun\n",
      "Processing Record 262 of Set  | dalvik\n",
      "Processing Record 263 of Set  | gazojak\n",
      "Processing Record 264 of Set  | najran\n",
      "Processing Record 265 of Set  | butaritari\n",
      "Processing Record 266 of Set  | vigrestad\n",
      "Processing Record 267 of Set  | vizinga\n",
      "Processing Record 268 of Set  | dunedin\n",
      "Processing Record 269 of Set  | chuy\n",
      "Processing Record 270 of Set  | ormara\n",
      "Processing Record 271 of Set  | coralville\n",
      "Processing Record 272 of Set  | ca mau\n",
      "Processing Record 273 of Set  | simao\n",
      "Processing Record 274 of Set  | los llanos de aridane\n",
      "City not found. Skipping...\n",
      "Processing Record 276 of Set  | mbandaka\n",
      "Processing Record 277 of Set  | san patricio\n",
      "Processing Record 278 of Set  | butembo\n",
      "City not found. Skipping...\n",
      "Processing Record 280 of Set  | klaksvik\n",
      "Processing Record 281 of Set  | ust-kuyga\n",
      "Processing Record 282 of Set  | shwebo\n",
      "Processing Record 283 of Set  | kavieng\n",
      "City not found. Skipping...\n",
      "City not found. Skipping...\n",
      "Processing Record 286 of Set  | hastings\n",
      "City not found. Skipping...\n",
      "Processing Record 288 of Set  | bend\n",
      "Processing Record 289 of Set  | cidreira\n",
      "Processing Record 290 of Set  | miri\n",
      "Processing Record 291 of Set  | flinders\n",
      "Processing Record 292 of Set  | makubetsu\n",
      "City not found. Skipping...\n",
      "Processing Record 294 of Set  | palomares\n",
      "City not found. Skipping...\n",
      "Processing Record 296 of Set  | lavrentiya\n",
      "Processing Record 297 of Set  | temba\n",
      "Processing Record 298 of Set  | avera\n",
      "Processing Record 299 of Set  | shimsk\n",
      "Processing Record 300 of Set  | port blair\n",
      "Processing Record 301 of Set  | geraldton\n",
      "Processing Record 302 of Set  | havelock\n",
      "Processing Record 303 of Set  | yelizovo\n",
      "City not found. Skipping...\n",
      "Processing Record 305 of Set  | talnakh\n",
      "Processing Record 306 of Set  | champerico\n",
      "Processing Record 307 of Set  | majene\n",
      "Processing Record 308 of Set  | udachnyy\n",
      "Processing Record 309 of Set  | ukiah\n",
      "Processing Record 310 of Set  | poum\n",
      "Processing Record 311 of Set  | yar-sale\n",
      "Processing Record 312 of Set  | kahului\n",
      "Processing Record 313 of Set  | henties bay\n",
      "City not found. Skipping...\n",
      "Processing Record 315 of Set  | strezhevoy\n",
      "Processing Record 316 of Set  | lovrenc na pohorju\n",
      "Processing Record 317 of Set  | kurilsk\n",
      "Processing Record 318 of Set  | yantal\n",
      "Processing Record 319 of Set  | dinghai\n",
      "Processing Record 320 of Set  | tocopilla\n",
      "Processing Record 321 of Set  | kodiak\n",
      "Processing Record 322 of Set  | ahipara\n",
      "City not found. Skipping...\n",
      "Processing Record 324 of Set  | gradignan\n",
      "Processing Record 325 of Set  | vao\n",
      "Processing Record 326 of Set  | madimba\n",
      "Processing Record 327 of Set  | wad madani\n",
      "Processing Record 328 of Set  | saint-francois\n",
      "Processing Record 329 of Set  | progreso\n",
      "Processing Record 330 of Set  | zambezi\n",
      "Processing Record 331 of Set  | faanui\n",
      "Processing Record 332 of Set  | iqaluit\n",
      "Processing Record 333 of Set  | khor\n",
      "Processing Record 334 of Set  | tignere\n",
      "Processing Record 335 of Set  | oistins\n",
      "Processing Record 336 of Set  | traverse city\n",
      "Processing Record 337 of Set  | brive-la-gaillarde\n",
      "Processing Record 338 of Set  | inyonga\n",
      "Processing Record 339 of Set  | halifax\n",
      "Processing Record 340 of Set  | gazimurskiy zavod\n",
      "Processing Record 341 of Set  | port lincoln\n",
      "Processing Record 342 of Set  | new norfolk\n",
      "Processing Record 343 of Set  | shetpe\n",
      "Processing Record 344 of Set  | panaba\n",
      "Processing Record 345 of Set  | pueblo\n",
      "Processing Record 346 of Set  | vrede\n",
      "Processing Record 347 of Set  | tucupita\n",
      "Processing Record 348 of Set  | hamadan\n",
      "Processing Record 349 of Set  | amapa\n",
      "Processing Record 350 of Set  | coihaique\n",
      "Processing Record 351 of Set  | basudebpur\n",
      "Processing Record 352 of Set  | bardiyah\n",
      "City not found. Skipping...\n",
      "City not found. Skipping...\n",
      "Processing Record 355 of Set  | ko samui\n",
      "Processing Record 356 of Set  | esperance\n",
      "Processing Record 357 of Set  | merrill\n",
      "Processing Record 358 of Set  | swellendam\n",
      "Processing Record 359 of Set  | vitim\n",
      "Processing Record 360 of Set  | indramayu\n",
      "Processing Record 361 of Set  | isangel\n",
      "Processing Record 362 of Set  | portland\n",
      "Processing Record 363 of Set  | banda aceh\n",
      "Processing Record 364 of Set  | lujiang\n",
      "Processing Record 365 of Set  | pacific grove\n",
      "Processing Record 366 of Set  | arlit\n",
      "Processing Record 367 of Set  | sidi ali\n",
      "Processing Record 368 of Set  | chunoyar\n",
      "Processing Record 369 of Set  | buin\n",
      "Processing Record 370 of Set  | kitimat\n",
      "Processing Record 371 of Set  | lazaro cardenas\n",
      "Processing Record 372 of Set  | luba\n",
      "Processing Record 373 of Set  | lauterbach\n",
      "Processing Record 374 of Set  | atmakur\n",
      "Processing Record 375 of Set  | ayan\n",
      "Processing Record 376 of Set  | gazli\n",
      "Processing Record 377 of Set  | luau\n",
      "Processing Record 378 of Set  | hamilton\n",
      "Processing Record 379 of Set  | tymovskoye\n",
      "Processing Record 380 of Set  | kamenka\n",
      "Processing Record 381 of Set  | kenai\n",
      "Processing Record 382 of Set  | mayya\n",
      "Processing Record 383 of Set  | asyut\n",
      "Processing Record 384 of Set  | sumbe\n",
      "Processing Record 385 of Set  | myitkyina\n",
      "Processing Record 386 of Set  | calama\n",
      "Processing Record 387 of Set  | oskaloosa\n",
      "Processing Record 388 of Set  | chatham\n",
      "Processing Record 389 of Set  | cherskiy\n",
      "Processing Record 390 of Set  | jalu\n",
      "Processing Record 391 of Set  | gamba\n",
      "Processing Record 392 of Set  | sept-iles\n",
      "Processing Record 393 of Set  | kutum\n",
      "Processing Record 394 of Set  | necochea\n",
      "Processing Record 395 of Set  | yatsushiro\n",
      "Processing Record 396 of Set  | la palma\n",
      "Processing Record 397 of Set  | glodeni\n",
      "Processing Record 398 of Set  | nuevo progreso\n",
      "Processing Record 399 of Set  | lebu\n",
      "Processing Record 400 of Set  | muzaffarabad\n",
      "Processing Record 401 of Set  | nueva loja\n",
      "Processing Record 402 of Set  | husavik\n",
      "Processing Record 403 of Set  | waipawa\n",
      "Processing Record 404 of Set  | pangnirtung\n",
      "Processing Record 405 of Set  | nhulunbuy\n",
      "Processing Record 406 of Set  | katherine\n",
      "Processing Record 407 of Set  | kjollefjord\n",
      "Processing Record 408 of Set  | puerto el triunfo\n",
      "Processing Record 409 of Set  | sao joao da barra\n",
      "Processing Record 410 of Set  | uthal\n"
     ]
    },
    {
     "name": "stdout",
     "output_type": "stream",
     "text": [
      "Processing Record 411 of Set  | abancay\n",
      "City not found. Skipping...\n",
      "Processing Record 413 of Set  | deogarh\n",
      "Processing Record 414 of Set  | hanyang\n",
      "Processing Record 415 of Set  | aljezur\n",
      "Processing Record 416 of Set  | kuytun\n",
      "Processing Record 417 of Set  | darhan\n",
      "City not found. Skipping...\n",
      "Processing Record 419 of Set  | touros\n",
      "Processing Record 420 of Set  | rio grande\n",
      "Processing Record 421 of Set  | bereda\n",
      "Processing Record 422 of Set  | terney\n",
      "Processing Record 423 of Set  | levokumskoye\n",
      "Processing Record 424 of Set  | monte alegre\n",
      "Processing Record 425 of Set  | college\n",
      "Processing Record 426 of Set  | saravan\n",
      "Processing Record 427 of Set  | biltine\n",
      "Processing Record 428 of Set  | padang\n",
      "Processing Record 429 of Set  | karratha\n",
      "Processing Record 430 of Set  | ancud\n",
      "Processing Record 431 of Set  | sao felix do xingu\n",
      "Processing Record 432 of Set  | chirongui\n",
      "Processing Record 433 of Set  | chinhoyi\n",
      "Processing Record 434 of Set  | le mars\n",
      "Processing Record 435 of Set  | worthington\n",
      "Processing Record 436 of Set  | laguna\n",
      "Processing Record 437 of Set  | moree\n",
      "Processing Record 438 of Set  | morgan city\n",
      "Processing Record 439 of Set  | mosjoen\n",
      "City not found. Skipping...\n",
      "Processing Record 441 of Set  | calvinia\n",
      "Processing Record 442 of Set  | kirakira\n",
      "Processing Record 443 of Set  | penzance\n",
      "Processing Record 444 of Set  | puerto quijarro\n",
      "Processing Record 445 of Set  | palmer\n",
      "City not found. Skipping...\n",
      "Processing Record 447 of Set  | ranong\n",
      "Processing Record 448 of Set  | rocha\n",
      "Processing Record 449 of Set  | orange\n",
      "Processing Record 450 of Set  | vila franca do campo\n",
      "Processing Record 451 of Set  | vostok\n",
      "Processing Record 452 of Set  | bengkulu\n",
      "Processing Record 453 of Set  | hofn\n",
      "Processing Record 454 of Set  | vega de alatorre\n",
      "Processing Record 455 of Set  | kudahuvadhoo\n",
      "Processing Record 456 of Set  | kazachinskoye\n",
      "Processing Record 457 of Set  | ostrovnoy\n",
      "Processing Record 458 of Set  | samalkha\n",
      "Processing Record 459 of Set  | sovetskaya gavan\n",
      "Processing Record 460 of Set  | puerto del rosario\n",
      "Processing Record 461 of Set  | rusape\n",
      "Processing Record 462 of Set  | aklavik\n",
      "Processing Record 463 of Set  | te anau\n",
      "Processing Record 464 of Set  | dongsheng\n",
      "Processing Record 465 of Set  | east london\n",
      "Processing Record 466 of Set  | fayaoue\n",
      "Processing Record 467 of Set  | mitsamiouli\n",
      "Processing Record 468 of Set  | queimadas\n",
      "Processing Record 469 of Set  | ulundi\n",
      "Processing Record 470 of Set  | paamiut\n",
      "Processing Record 471 of Set  | odweyne\n",
      "Processing Record 472 of Set  | kropotkin\n",
      "Processing Record 473 of Set  | nouadhibou\n",
      "Processing Record 474 of Set  | hue\n",
      "Processing Record 475 of Set  | sechura\n",
      "Processing Record 476 of Set  | fare\n",
      "Processing Record 477 of Set  | margate\n",
      "Processing Record 478 of Set  | koslan\n",
      "Processing Record 479 of Set  | monrovia\n",
      "Processing Record 480 of Set  | loviisa\n",
      "Processing Record 481 of Set  | mianyang\n",
      "Processing Record 482 of Set  | zemio\n",
      "Processing Record 483 of Set  | tadine\n",
      "Processing Record 484 of Set  | jining\n",
      "Processing Record 485 of Set  | zabol\n",
      "Processing Record 486 of Set  | kargat\n",
      "Processing Record 487 of Set  | fort nelson\n",
      "Processing Record 488 of Set  | orlik\n",
      "Processing Record 489 of Set  | ahtopol\n",
      "Processing Record 490 of Set  | ereymentau\n",
      "Processing Record 491 of Set  | goderich\n",
      "Processing Record 492 of Set  | north bend\n",
      "Processing Record 493 of Set  | cusco\n",
      "Processing Record 494 of Set  | san felipe\n",
      "Processing Record 495 of Set  | shelburne\n",
      "Processing Record 496 of Set  | prieska\n",
      "Processing Record 497 of Set  | imeni poliny osipenko\n",
      "Processing Record 498 of Set  | mossendjo\n",
      "Processing Record 499 of Set  | la rioja\n",
      "Processing Record 500 of Set  | vanavara\n",
      "Processing Record 501 of Set  | nantucket\n",
      "Processing Record 502 of Set  | asfi\n",
      "Processing Record 503 of Set  | isla mujeres\n",
      "Processing Record 504 of Set  | yarada\n",
      "Processing Record 505 of Set  | hobyo\n",
      "Processing Record 506 of Set  | lahij\n",
      "Processing Record 507 of Set  | svetlyy\n",
      "Processing Record 508 of Set  | verkhnyaya toyma\n",
      "Processing Record 509 of Set  | hovd\n",
      "Processing Record 510 of Set  | wexford\n",
      "Processing Record 511 of Set  | la ronge\n",
      "Processing Record 512 of Set  | cockburn town\n",
      "Processing Record 513 of Set  | apatity\n",
      "Processing Record 514 of Set  | evensk\n",
      "Processing Record 515 of Set  | mumford\n",
      "Processing Record 516 of Set  | puerto leguizamo\n",
      "Processing Record 517 of Set  | morbegno\n",
      "City not found. Skipping...\n",
      "Processing Record 519 of Set  | netivot\n",
      "Processing Record 520 of Set  | zhanaozen\n",
      "Processing Record 521 of Set  | fallon\n",
      "Processing Record 522 of Set  | hojai\n",
      "Processing Record 523 of Set  | luderitz\n",
      "Processing Record 524 of Set  | falam\n",
      "Processing Record 525 of Set  | iwaki\n",
      "Processing Record 526 of Set  | khuzhir\n",
      "Processing Record 527 of Set  | comodoro rivadavia\n",
      "Processing Record 528 of Set  | diego de almagro\n",
      "Processing Record 529 of Set  | xinzhou\n",
      "Processing Record 530 of Set  | vardo\n",
      "Processing Record 531 of Set  | zhezkazgan\n",
      "Processing Record 532 of Set  | fukue\n",
      "Processing Record 533 of Set  | ugra\n",
      "Processing Record 534 of Set  | half moon bay\n",
      "Processing Record 535 of Set  | bilibino\n",
      "Processing Record 536 of Set  | yulara\n",
      "City not found. Skipping...\n",
      "Processing Record 538 of Set  | sisimiut\n",
      "Processing Record 539 of Set  | matara\n",
      "Processing Record 540 of Set  | bud\n",
      "Processing Record 541 of Set  | matamoros\n",
      "Processing Record 542 of Set  | shingu\n",
      "Processing Record 543 of Set  | coruripe\n",
      "Processing Record 544 of Set  | troina\n",
      "Processing Record 545 of Set  | rovaniemi\n",
      "City not found. Skipping...\n",
      "Processing Record 547 of Set  | hailey\n",
      "Processing Record 548 of Set  | utiel\n",
      "Processing Record 549 of Set  | daniel flores\n",
      "Processing Record 550 of Set  | chernyshevskiy\n",
      "Processing Record 551 of Set  | port augusta\n",
      "Processing Record 552 of Set  | nelson bay\n",
      "Processing Record 553 of Set  | kadi\n",
      "Processing Record 554 of Set  | taltal\n",
      "Processing Record 555 of Set  | lianzhou\n",
      "Processing Record 556 of Set  | vangaindrano\n",
      "Processing Record 557 of Set  | bunia\n",
      "Processing Record 558 of Set  | port keats\n",
      "Processing Record 559 of Set  | tezu\n",
      "Processing Record 560 of Set  | axim\n",
      "Processing Record 561 of Set  | pangkalanbuun\n",
      "Processing Record 562 of Set  | severomuysk\n",
      "Processing Record 563 of Set  | lucapa\n",
      "Processing Record 564 of Set  | kochevo\n",
      "Processing Record 565 of Set  | hay river\n",
      "Processing Record 566 of Set  | oranjemund\n",
      "Processing Record 567 of Set  | aden\n",
      "Processing Record 568 of Set  | elizabeth city\n",
      "Processing Record 569 of Set  | taoudenni\n",
      "Processing Record 570 of Set  | viedma\n",
      "Processing Record 571 of Set  | torgau\n",
      "Processing Record 572 of Set  | sur\n",
      "Processing Record 573 of Set  | amherst\n",
      "Processing Record 574 of Set  | yuty\n",
      "Processing Record 575 of Set  | dwarka\n",
      "Processing Record 576 of Set  | ouallam\n",
      "Processing Record 577 of Set  | libenge\n",
      "Processing Record 578 of Set  | koumac\n",
      "Processing Record 579 of Set  | westport\n",
      "Processing Record 580 of Set  | bilma\n",
      "City not found. Skipping...\n",
      "City not found. Skipping...\n",
      "Processing Record 583 of Set  | svetlogorsk\n",
      "Processing Record 584 of Set  | codrington\n",
      "Processing Record 585 of Set  | cravo norte\n",
      "Processing Record 586 of Set  | tolaga bay\n",
      "Processing Record 587 of Set  | ravar\n",
      "City not found. Skipping...\n",
      "Processing Record 589 of Set  | komsomolskiy\n",
      "City not found. Skipping...\n",
      "Processing Record 591 of Set  | jerez\n",
      "Processing Record 592 of Set  | kloulklubed\n",
      "Processing Record 593 of Set  | srednekolymsk\n",
      "Processing Record 594 of Set  | uruzgan\n",
      "Processing Record 595 of Set  | celles\n",
      "City not found. Skipping...\n",
      "Processing Record 597 of Set  | ballina\n",
      "-----------------------------\n",
      "Data Retrieval Complete\n",
      "-----------------------------\n"
     ]
    }
   ],
   "source": [
    "#initialize the lists for all the data\n",
    "lat_list = []\n",
    "long_list = []\n",
    "max_temp_list = []\n",
    "clouds_list = []\n",
    "humidity_list = []\n",
    "wind_list = []\n",
    "country_list = []\n",
    "city_list = []\n",
    "date_list = []\n",
    "\n",
    "#signaling the beginning of the data retrieval\n",
    "print(\"Beginning Data Retrieval\")\n",
    "print(\"-----------------------------\")\n",
    "\n",
    "#loop to get city data\n",
    "for city in cities:\n",
    "    \n",
    "    # Build query URL\n",
    "    query_url = url + \"appid=\" + weather_api_key + \"&q=\" + city\n",
    "\n",
    "    #json request\n",
    "    response = requests.get(query_url).json()\n",
    "\n",
    "    #conditional to check for cities not found\n",
    "    if response == {'cod': '404', 'message': 'city not found'}:\n",
    "        print(\"City not found. Skipping...\")\n",
    "    \n",
    "    #conditional for cities found\n",
    "    else:\n",
    "        \n",
    "        #sanity check\n",
    "        #pprint.pprint(response)\n",
    "        \n",
    "        #save the new city list\n",
    "        city_list.append(city)\n",
    "        \n",
    "        #save the latitude\n",
    "        lat = (response['coord']['lat'])\n",
    "        lat_list.append(lat)\n",
    "        \n",
    "        #save the longitude\n",
    "        long = (response['coord']['lon'])\n",
    "        long_list.append(long)\n",
    "        \n",
    "        #sanity check\n",
    "        #print(lat)\n",
    "        \n",
    "        #save the temperature\n",
    "        max_temp = (response['main']['temp_max'])\n",
    "        max_temp_list.append(max_temp)\n",
    "        \n",
    "        #save the cloudiness\n",
    "        clouds = (response['clouds']['all'])\n",
    "        clouds_list.append(clouds)\n",
    "        \n",
    "        #save the humidity\n",
    "        humidity = (response['main']['humidity'])\n",
    "        humidity_list.append(humidity)\n",
    "        \n",
    "        #save the wind speed\n",
    "        wind = (response['wind']['speed'])\n",
    "        wind_list.append(wind)\n",
    "        \n",
    "        #save the country\n",
    "        country = (response['sys']['country'])\n",
    "        country_list.append(country)\n",
    "        \n",
    "        #save the date\n",
    "        date = (response['dt'])\n",
    "        date_list.append(date)\n",
    "        \n",
    "        #print the record for each city\n",
    "        print(f'Processing Record {cities.index(city) + 1} of Set  | {city}')\n",
    " \n",
    "\n",
    "print(\"-----------------------------\")\n",
    "print(\"Data Retrieval Complete\")      \n",
    "print(\"-----------------------------\")"
   ]
  },
  {
   "cell_type": "markdown",
   "metadata": {},
   "source": [
    "### Convert Raw Data to DataFrame\n",
    "* Export the city data into a .csv.\n",
    "* Display the DataFrame"
   ]
  },
  {
   "cell_type": "code",
   "execution_count": 79,
   "metadata": {},
   "outputs": [],
   "source": [
    "#creating the dictionary for the data frame\n",
    "weather_data = {'city':city_list, 'lat':lat_list, 'lng':long_list, 'Max Temp': max_temp_list, 'Humidity': humidity_list, 'Cloudiness': clouds_list, 'Wind Speed': wind_list, 'Country': country_list, 'Date':date_list}"
   ]
  },
  {
   "cell_type": "code",
   "execution_count": 80,
   "metadata": {},
   "outputs": [],
   "source": [
    "#sanity check\n",
    "#print(len(city_list))\n",
    "#print(len(lat_list))\n",
    "#print(len(long_list))\n",
    "#print(len(max_temp_list))\n",
    "#print(len(humidity_list))\n",
    "#print(len(wind_list))\n",
    "#print(len(date_list))\n",
    "#print(len(clouds_list))\n",
    "#print(len(country_list))"
   ]
  },
  {
   "cell_type": "code",
   "execution_count": 81,
   "metadata": {},
   "outputs": [],
   "source": [
    "#create the weather data frame\n",
    "weather_df = pd.DataFrame(weather_data)"
   ]
  },
  {
   "cell_type": "code",
   "execution_count": 82,
   "metadata": {},
   "outputs": [
    {
     "data": {
      "text/plain": [
       "city          550\n",
       "lat           550\n",
       "lng           550\n",
       "Max Temp      550\n",
       "Humidity      550\n",
       "Cloudiness    550\n",
       "Wind Speed    550\n",
       "Country       550\n",
       "Date          550\n",
       "dtype: int64"
      ]
     },
     "execution_count": 82,
     "metadata": {},
     "output_type": "execute_result"
    }
   ],
   "source": [
    "#sanity check\n",
    "weather_df.count()  "
   ]
  },
  {
   "cell_type": "code",
   "execution_count": 83,
   "metadata": {},
   "outputs": [
    {
     "data": {
      "text/html": [
       "<div>\n",
       "<style scoped>\n",
       "    .dataframe tbody tr th:only-of-type {\n",
       "        vertical-align: middle;\n",
       "    }\n",
       "\n",
       "    .dataframe tbody tr th {\n",
       "        vertical-align: top;\n",
       "    }\n",
       "\n",
       "    .dataframe thead th {\n",
       "        text-align: right;\n",
       "    }\n",
       "</style>\n",
       "<table border=\"1\" class=\"dataframe\">\n",
       "  <thead>\n",
       "    <tr style=\"text-align: right;\">\n",
       "      <th></th>\n",
       "      <th>city</th>\n",
       "      <th>lat</th>\n",
       "      <th>lng</th>\n",
       "      <th>Max Temp</th>\n",
       "      <th>Humidity</th>\n",
       "      <th>Cloudiness</th>\n",
       "      <th>Wind Speed</th>\n",
       "      <th>Country</th>\n",
       "      <th>Date</th>\n",
       "    </tr>\n",
       "  </thead>\n",
       "  <tbody>\n",
       "    <tr>\n",
       "      <th>0</th>\n",
       "      <td>namibe</td>\n",
       "      <td>-15.20</td>\n",
       "      <td>12.15</td>\n",
       "      <td>291.95</td>\n",
       "      <td>65</td>\n",
       "      <td>0</td>\n",
       "      <td>1.02</td>\n",
       "      <td>AO</td>\n",
       "      <td>1595460278</td>\n",
       "    </tr>\n",
       "    <tr>\n",
       "      <th>1</th>\n",
       "      <td>bluff</td>\n",
       "      <td>-46.60</td>\n",
       "      <td>168.33</td>\n",
       "      <td>277.04</td>\n",
       "      <td>83</td>\n",
       "      <td>96</td>\n",
       "      <td>1.34</td>\n",
       "      <td>NZ</td>\n",
       "      <td>1595460248</td>\n",
       "    </tr>\n",
       "    <tr>\n",
       "      <th>2</th>\n",
       "      <td>oussouye</td>\n",
       "      <td>12.48</td>\n",
       "      <td>-16.55</td>\n",
       "      <td>301.15</td>\n",
       "      <td>94</td>\n",
       "      <td>20</td>\n",
       "      <td>2.10</td>\n",
       "      <td>SN</td>\n",
       "      <td>1595460789</td>\n",
       "    </tr>\n",
       "    <tr>\n",
       "      <th>3</th>\n",
       "      <td>georgetown</td>\n",
       "      <td>5.41</td>\n",
       "      <td>100.34</td>\n",
       "      <td>298.15</td>\n",
       "      <td>94</td>\n",
       "      <td>20</td>\n",
       "      <td>2.82</td>\n",
       "      <td>MY</td>\n",
       "      <td>1595460012</td>\n",
       "    </tr>\n",
       "    <tr>\n",
       "      <th>4</th>\n",
       "      <td>hermanus</td>\n",
       "      <td>-34.42</td>\n",
       "      <td>19.23</td>\n",
       "      <td>284.82</td>\n",
       "      <td>91</td>\n",
       "      <td>0</td>\n",
       "      <td>0.45</td>\n",
       "      <td>ZA</td>\n",
       "      <td>1595460242</td>\n",
       "    </tr>\n",
       "    <tr>\n",
       "      <th>...</th>\n",
       "      <td>...</td>\n",
       "      <td>...</td>\n",
       "      <td>...</td>\n",
       "      <td>...</td>\n",
       "      <td>...</td>\n",
       "      <td>...</td>\n",
       "      <td>...</td>\n",
       "      <td>...</td>\n",
       "      <td>...</td>\n",
       "    </tr>\n",
       "    <tr>\n",
       "      <th>545</th>\n",
       "      <td>kloulklubed</td>\n",
       "      <td>7.04</td>\n",
       "      <td>134.26</td>\n",
       "      <td>300.15</td>\n",
       "      <td>88</td>\n",
       "      <td>75</td>\n",
       "      <td>3.04</td>\n",
       "      <td>PW</td>\n",
       "      <td>1595460904</td>\n",
       "    </tr>\n",
       "    <tr>\n",
       "      <th>546</th>\n",
       "      <td>srednekolymsk</td>\n",
       "      <td>67.45</td>\n",
       "      <td>153.68</td>\n",
       "      <td>301.26</td>\n",
       "      <td>30</td>\n",
       "      <td>87</td>\n",
       "      <td>3.92</td>\n",
       "      <td>RU</td>\n",
       "      <td>1595460905</td>\n",
       "    </tr>\n",
       "    <tr>\n",
       "      <th>547</th>\n",
       "      <td>uruzgan</td>\n",
       "      <td>32.83</td>\n",
       "      <td>66.00</td>\n",
       "      <td>291.27</td>\n",
       "      <td>25</td>\n",
       "      <td>0</td>\n",
       "      <td>2.28</td>\n",
       "      <td>AF</td>\n",
       "      <td>1595460905</td>\n",
       "    </tr>\n",
       "    <tr>\n",
       "      <th>548</th>\n",
       "      <td>celles</td>\n",
       "      <td>50.71</td>\n",
       "      <td>3.46</td>\n",
       "      <td>286.48</td>\n",
       "      <td>84</td>\n",
       "      <td>7</td>\n",
       "      <td>0.93</td>\n",
       "      <td>BE</td>\n",
       "      <td>1595460905</td>\n",
       "    </tr>\n",
       "    <tr>\n",
       "      <th>549</th>\n",
       "      <td>ballina</td>\n",
       "      <td>-28.87</td>\n",
       "      <td>153.57</td>\n",
       "      <td>287.15</td>\n",
       "      <td>82</td>\n",
       "      <td>40</td>\n",
       "      <td>4.10</td>\n",
       "      <td>AU</td>\n",
       "      <td>1595460905</td>\n",
       "    </tr>\n",
       "  </tbody>\n",
       "</table>\n",
       "<p>550 rows × 9 columns</p>\n",
       "</div>"
      ],
      "text/plain": [
       "              city    lat     lng  Max Temp  Humidity  Cloudiness  Wind Speed  \\\n",
       "0           namibe -15.20   12.15    291.95        65           0        1.02   \n",
       "1            bluff -46.60  168.33    277.04        83          96        1.34   \n",
       "2         oussouye  12.48  -16.55    301.15        94          20        2.10   \n",
       "3       georgetown   5.41  100.34    298.15        94          20        2.82   \n",
       "4         hermanus -34.42   19.23    284.82        91           0        0.45   \n",
       "..             ...    ...     ...       ...       ...         ...         ...   \n",
       "545    kloulklubed   7.04  134.26    300.15        88          75        3.04   \n",
       "546  srednekolymsk  67.45  153.68    301.26        30          87        3.92   \n",
       "547        uruzgan  32.83   66.00    291.27        25           0        2.28   \n",
       "548         celles  50.71    3.46    286.48        84           7        0.93   \n",
       "549        ballina -28.87  153.57    287.15        82          40        4.10   \n",
       "\n",
       "    Country        Date  \n",
       "0        AO  1595460278  \n",
       "1        NZ  1595460248  \n",
       "2        SN  1595460789  \n",
       "3        MY  1595460012  \n",
       "4        ZA  1595460242  \n",
       "..      ...         ...  \n",
       "545      PW  1595460904  \n",
       "546      RU  1595460905  \n",
       "547      AF  1595460905  \n",
       "548      BE  1595460905  \n",
       "549      AU  1595460905  \n",
       "\n",
       "[550 rows x 9 columns]"
      ]
     },
     "execution_count": 83,
     "metadata": {},
     "output_type": "execute_result"
    }
   ],
   "source": [
    "#displaying the data frame\n",
    "weather_df"
   ]
  },
  {
   "cell_type": "code",
   "execution_count": 84,
   "metadata": {},
   "outputs": [],
   "source": [
    "#output the file\n",
    "weather_df.to_csv(output_data_file)"
   ]
  },
  {
   "cell_type": "markdown",
   "metadata": {},
   "source": [
    "## Inspect the data and remove the cities where the humidity > 100%.\n",
    "----\n",
    "Skip this step if there are no cities that have humidity > 100%. "
   ]
  },
  {
   "cell_type": "code",
   "execution_count": 85,
   "metadata": {},
   "outputs": [
    {
     "data": {
      "text/html": [
       "<div>\n",
       "<style scoped>\n",
       "    .dataframe tbody tr th:only-of-type {\n",
       "        vertical-align: middle;\n",
       "    }\n",
       "\n",
       "    .dataframe tbody tr th {\n",
       "        vertical-align: top;\n",
       "    }\n",
       "\n",
       "    .dataframe thead th {\n",
       "        text-align: right;\n",
       "    }\n",
       "</style>\n",
       "<table border=\"1\" class=\"dataframe\">\n",
       "  <thead>\n",
       "    <tr style=\"text-align: right;\">\n",
       "      <th></th>\n",
       "      <th>city</th>\n",
       "      <th>lat</th>\n",
       "      <th>lng</th>\n",
       "      <th>Max Temp</th>\n",
       "      <th>Humidity</th>\n",
       "      <th>Cloudiness</th>\n",
       "      <th>Wind Speed</th>\n",
       "      <th>Country</th>\n",
       "      <th>Date</th>\n",
       "    </tr>\n",
       "  </thead>\n",
       "  <tbody>\n",
       "  </tbody>\n",
       "</table>\n",
       "</div>"
      ],
      "text/plain": [
       "Empty DataFrame\n",
       "Columns: [city, lat, lng, Max Temp, Humidity, Cloudiness, Wind Speed, Country, Date]\n",
       "Index: []"
      ]
     },
     "execution_count": 85,
     "metadata": {},
     "output_type": "execute_result"
    }
   ],
   "source": [
    "#check to see if there are cities with humidity greater than 100\n",
    "weather_df[weather_df.Humidity > 100]"
   ]
  },
  {
   "cell_type": "markdown",
   "metadata": {},
   "source": [
    "## Plotting the Data\n",
    "* Use proper labeling of the plots using plot titles (including date of analysis) and axes labels.\n",
    "* Save the plotted figures as .pngs."
   ]
  },
  {
   "cell_type": "markdown",
   "metadata": {},
   "source": [
    "## Latitude vs. Temperature Plot"
   ]
  },
  {
   "cell_type": "code",
   "execution_count": 86,
   "metadata": {},
   "outputs": [
    {
     "data": {
      "image/png": "[encoded data removed]",
      "text/plain": [
       "<Figure size 432x288 with 1 Axes>"
      ]
     },
     "metadata": {
      "needs_background": "light"
     },
     "output_type": "display_data"
    }
   ],
   "source": [
    "#pulling the values to be graphed\n",
    "max_temp_data = weather_df['Max Temp'].tolist()\n",
    "latitude_data = weather_df['lat'].tolist()\n",
    "\n",
    "#convert the temperature data\n",
    "converted_temp = []\n",
    "\n",
    "for item in max_temp_data:\n",
    "    f = (float(item) - 273.15) * 1.8 + 32\n",
    "    converted_temp.append(f)\n",
    "\n",
    "#sanity check\n",
    "#print(max_temp_data)\n",
    "\n",
    "#adding labels\n",
    "plt.xlabel(\"Latitude)\")\n",
    "plt.ylabel(\"Max Temperature (F)\")\n",
    "plt.title(\"City Latitude vs Max Temperature (07/20/20)\")\n",
    "\n",
    "#plotting the graph\n",
    "plt.scatter(latitude_data, converted_temp)\n",
    "\n",
    "#adding a grid\n",
    "plt.grid(True)\n",
    "\n",
    "plt.savefig('output_data/fig1.png')\n",
    "\n",
    "plt.show()"
   ]
  },
  {
   "cell_type": "markdown",
   "metadata": {},
   "source": [
    "## Latitude vs. Humidity Plot"
   ]
  },
  {
   "cell_type": "code",
   "execution_count": 87,
   "metadata": {
    "scrolled": true
   },
   "outputs": [
    {
     "data": {
      "image/png": "[encoded data removed]",
      "text/plain": [
       "<Figure size 432x288 with 1 Axes>"
      ]
     },
     "metadata": {
      "needs_background": "light"
     },
     "output_type": "display_data"
    }
   ],
   "source": [
    "#pulling the values to be graphed\n",
    "humidity_data = weather_df['Humidity'].tolist()\n",
    "\n",
    "#adding labels\n",
    "plt.xlabel(\"Latitude)\")\n",
    "plt.ylabel(\"Humidity\")\n",
    "plt.title(\"City Latitude vs Humidity (07/20/20)\")\n",
    "\n",
    "#plotting the graph\n",
    "plt.scatter(latitude_data, humidity_data)\n",
    "\n",
    "#adding a grid\n",
    "plt.grid(True)\n",
    "\n",
    "plt.savefig('output_data/fig2.png')\n",
    "\n",
    "plt.show()"
   ]
  },
  {
   "cell_type": "markdown",
   "metadata": {},
   "source": [
    "## Latitude vs. Cloudiness Plot"
   ]
  },
  {
   "cell_type": "code",
   "execution_count": 88,
   "metadata": {},
   "outputs": [
    {
     "data": {
      "image/png": "[encoded data removed]",
      "text/plain": [
       "<Figure size 432x288 with 1 Axes>"
      ]
     },
     "metadata": {
      "needs_background": "light"
     },
     "output_type": "display_data"
    }
   ],
   "source": [
    "#pulling the values to be graphed\n",
    "cloud_data = weather_df['Cloudiness'].tolist()\n",
    "\n",
    "#adding labels\n",
    "plt.xlabel(\"Latitude)\")\n",
    "plt.ylabel(\"Cloudiness (%)\")\n",
    "plt.title(\"City Latitude vs Cloudiness (07/20/20)\")\n",
    "\n",
    "#plotting the graph\n",
    "plt.scatter(latitude_data, cloud_data)\n",
    "\n",
    "#adding a grid\n",
    "plt.grid(True)\n",
    "\n",
    "plt.savefig('output_data/fig3.png')\n",
    "\n",
    "plt.show()"
   ]
  },
  {
   "cell_type": "markdown",
   "metadata": {},
   "source": [
    "## Latitude vs. Wind Speed Plot"
   ]
  },
  {
   "cell_type": "code",
   "execution_count": 89,
   "metadata": {},
   "outputs": [
    {
     "data": {
      "image/png": "[encoded data removed]",
      "text/plain": [
       "<Figure size 432x288 with 1 Axes>"
      ]
     },
     "metadata": {
      "needs_background": "light"
     },
     "output_type": "display_data"
    }
   ],
   "source": [
    "#pulling the values to be graphed\n",
    "wind_data = weather_df['Wind Speed'].tolist()\n",
    "\n",
    "#adding labels\n",
    "plt.xlabel(\"Latitude)\")\n",
    "plt.ylabel(\"Wind Speed (mph)\")\n",
    "plt.title(\"City Latitude vs Wind Speed (07/20/20)\")\n",
    "\n",
    "#plotting the graph\n",
    "plt.scatter(latitude_data, wind_data)\n",
    "\n",
    "#adding a grid\n",
    "plt.grid(True)\n",
    "\n",
    "plt.savefig('output_data/fig4.png')\n",
    "\n",
    "plt.show()"
   ]
  },
  {
   "cell_type": "markdown",
   "metadata": {},
   "source": [
    "## Linear Regression"
   ]
  },
  {
   "cell_type": "code",
   "execution_count": 90,
   "metadata": {},
   "outputs": [],
   "source": [
    "# Create Northern and Southern Hemisphere DataFrames\n",
    "northern_df = weather_df[weather_df.lat >= 0]\n",
    "southern_df = weather_df[weather_df.lat < 0]\n",
    "\n",
    "#sanity check\n",
    "#northern_df"
   ]
  },
  {
   "cell_type": "markdown",
   "metadata": {},
   "source": [
    "####  Northern Hemisphere - Max Temp vs. Latitude Linear Regression"
   ]
  },
  {
   "cell_type": "code",
   "execution_count": 91,
   "metadata": {},
   "outputs": [
    {
     "name": "stdout",
     "output_type": "stream",
     "text": [
      "The r-squared is: 0.45862097797641616\n"
     ]
    },
    {
     "data": {
      "image/png": "[encoded data removed]",
      "text/plain": [
       "<Figure size 432x288 with 1 Axes>"
      ]
     },
     "metadata": {
      "needs_background": "light"
     },
     "output_type": "display_data"
    }
   ],
   "source": [
    "#xvalues\n",
    "x_values = northern_df['lat']\n",
    "\n",
    "#convert the temperature data\n",
    "north_converted_temp = []\n",
    "\n",
    "for item in northern_df['Max Temp']:\n",
    "    f = (float(item) - 273.15) * 1.8 + 32\n",
    "    north_converted_temp.append(f)\n",
    "\n",
    "#yvalues\n",
    "y_values = north_converted_temp\n",
    "\n",
    "\n",
    "(slope, intercept, rvalue, pvalue, stderr) = linregress(x_values,y_values)\n",
    "regress_values = x_values * slope + intercept\n",
    "line_eq = \"y = \" + str(round(slope,2)) + \"x + \" + str(round(intercept,2))\n",
    "\n",
    "#print the r squared value\n",
    "print(f'The r-squared is: {rvalue**2}')\n",
    "\n",
    "#make the scatter plot\n",
    "plt.scatter(x_values,y_values, c='blue')\n",
    "\n",
    "#plot the \n",
    "plt.plot(x_values,regress_values,\"r-\")\n",
    "plt.annotate(line_eq,(10,40),fontsize=15,color=\"red\")\n",
    "\n",
    "#add labels and a title\n",
    "plt.xlabel('Latitude')\n",
    "plt.ylabel('Max Temp')\n",
    "\n",
    "#plot it\n",
    "plt.show()"
   ]
  },
  {
   "cell_type": "markdown",
   "metadata": {},
   "source": [
    "####  Southern Hemisphere - Max Temp vs. Latitude Linear Regression"
   ]
  },
  {
   "cell_type": "code",
   "execution_count": 92,
   "metadata": {},
   "outputs": [
    {
     "name": "stdout",
     "output_type": "stream",
     "text": [
      "The r-squared is: 0.6199496647502201\n"
     ]
    },
    {
     "data": {
      "image/png": "[encoded data removed]",
      "text/plain": [
       "<Figure size 432x288 with 1 Axes>"
      ]
     },
     "metadata": {
      "needs_background": "light"
     },
     "output_type": "display_data"
    }
   ],
   "source": [
    "#xvalues\n",
    "x_values = southern_df['lat']\n",
    "\n",
    "#convert the temperature data\n",
    "south_converted_temp = []\n",
    "\n",
    "for item in southern_df['Max Temp']:\n",
    "    f = (float(item) - 273.15) * 1.8 + 32\n",
    "    south_converted_temp.append(f)\n",
    "\n",
    "#yvalues\n",
    "y_values = south_converted_temp\n",
    "\n",
    "\n",
    "(slope, intercept, rvalue, pvalue, stderr) = linregress(x_values,y_values)\n",
    "regress_values = x_values * slope + intercept\n",
    "line_eq = \"y = \" + str(round(slope,2)) + \"x + \" + str(round(intercept,2))\n",
    "\n",
    "#print the r squared value\n",
    "print(f'The r-squared is: {rvalue**2}')\n",
    "\n",
    "#make the scatter plot\n",
    "plt.scatter(x_values,y_values, c='blue')\n",
    "\n",
    "#plot the \n",
    "plt.plot(x_values,regress_values,\"r-\")\n",
    "plt.annotate(line_eq,(-50,90),fontsize=15,color=\"red\")\n",
    "\n",
    "#add labels and a title\n",
    "plt.xlabel('Latitude')\n",
    "plt.ylabel('Max Temp')\n",
    "\n",
    "#plot it\n",
    "plt.show()"
   ]
  },
  {
   "cell_type": "markdown",
   "metadata": {},
   "source": [
    "####  Northern Hemisphere - Humidity (%) vs. Latitude Linear Regression"
   ]
  },
  {
   "cell_type": "code",
   "execution_count": 93,
   "metadata": {},
   "outputs": [
    {
     "name": "stdout",
     "output_type": "stream",
     "text": [
      "The r-squared is: 0.010133788278062134\n"
     ]
    },
    {
     "data": {
      "image/png": "[encoded data removed]",
      "text/plain": [
       "<Figure size 432x288 with 1 Axes>"
      ]
     },
     "metadata": {
      "needs_background": "light"
     },
     "output_type": "display_data"
    }
   ],
   "source": [
    "#xvalues\n",
    "x_values = northern_df['lat']\n",
    "\n",
    "#yvalues\n",
    "y_values = northern_df['Humidity']\n",
    "\n",
    "\n",
    "(slope, intercept, rvalue, pvalue, stderr) = linregress(x_values,y_values)\n",
    "regress_values = x_values * slope + intercept\n",
    "line_eq = \"y = \" + str(round(slope,2)) + \"x + \" + str(round(intercept,2))\n",
    "\n",
    "#print the r squared value\n",
    "print(f'The r-squared is: {rvalue**2}')\n",
    "\n",
    "#make the scatter plot\n",
    "plt.scatter(x_values,y_values, c='blue')\n",
    "\n",
    "#plot the \n",
    "plt.plot(x_values,regress_values,\"r-\")\n",
    "plt.annotate(line_eq,(45,20),fontsize=15,color=\"red\")\n",
    "\n",
    "#add labels and a title\n",
    "plt.xlabel('Latitude')\n",
    "plt.ylabel('Humidity')\n",
    "\n",
    "#plot it\n",
    "plt.show()"
   ]
  },
  {
   "cell_type": "markdown",
   "metadata": {},
   "source": [
    "####  Southern Hemisphere - Humidity (%) vs. Latitude Linear Regression"
   ]
  },
  {
   "cell_type": "code",
   "execution_count": 94,
   "metadata": {},
   "outputs": [
    {
     "name": "stdout",
     "output_type": "stream",
     "text": [
      "The r-squared is: 0.001892460209899285\n"
     ]
    },
    {
     "data": {
      "image/png": "[encoded data removed]",
      "text/plain": [
       "<Figure size 432x288 with 1 Axes>"
      ]
     },
     "metadata": {
      "needs_background": "light"
     },
     "output_type": "display_data"
    }
   ],
   "source": [
    "#xvalues\n",
    "x_values = southern_df['lat']\n",
    "\n",
    "#yvalues\n",
    "y_values = southern_df['Humidity']\n",
    "\n",
    "\n",
    "(slope, intercept, rvalue, pvalue, stderr) = linregress(x_values,y_values)\n",
    "regress_values = x_values * slope + intercept\n",
    "line_eq = \"y = \" + str(round(slope,2)) + \"x + \" + str(round(intercept,2))\n",
    "\n",
    "#print the r squared value\n",
    "print(f'The r-squared is: {rvalue**2}')\n",
    "\n",
    "#make the scatter plot\n",
    "plt.scatter(x_values,y_values, c='blue')\n",
    "\n",
    "#plot the \n",
    "plt.plot(x_values,regress_values,\"r-\")\n",
    "plt.annotate(line_eq,(-55,20),fontsize=15,color=\"red\")\n",
    "\n",
    "#add labels and a title\n",
    "plt.xlabel('Latitude')\n",
    "plt.ylabel('Humidity')\n",
    "\n",
    "#plot it\n",
    "plt.show()"
   ]
  },
  {
   "cell_type": "markdown",
   "metadata": {},
   "source": [
    "####  Northern Hemisphere - Cloudiness (%) vs. Latitude Linear Regression"
   ]
  },
  {
   "cell_type": "code",
   "execution_count": 95,
   "metadata": {},
   "outputs": [
    {
     "name": "stdout",
     "output_type": "stream",
     "text": [
      "The r-squared is: 0.002322133844514059\n"
     ]
    },
    {
     "data": {
      "image/png": "[encoded data removed]",
      "text/plain": [
       "<Figure size 432x288 with 1 Axes>"
      ]
     },
     "metadata": {
      "needs_background": "light"
     },
     "output_type": "display_data"
    }
   ],
   "source": [
    "#xvalues\n",
    "x_values = northern_df['lat']\n",
    "\n",
    "#yvalues\n",
    "y_values = northern_df['Cloudiness']\n",
    "\n",
    "\n",
    "(slope, intercept, rvalue, pvalue, stderr) = linregress(x_values,y_values)\n",
    "regress_values = x_values * slope + intercept\n",
    "line_eq = \"y = \" + str(round(slope,2)) + \"x + \" + str(round(intercept,2))\n",
    "\n",
    "#print the r squared value\n",
    "print(f'The r-squared is: {rvalue**2}')\n",
    "\n",
    "#make the scatter plot\n",
    "plt.scatter(x_values,y_values, c='blue')\n",
    "\n",
    "#plot the \n",
    "plt.plot(x_values,regress_values,\"r-\")\n",
    "plt.annotate(line_eq,(40,55),fontsize=15,color=\"red\")\n",
    "\n",
    "#add labels and a title\n",
    "plt.xlabel('Latitude')\n",
    "plt.ylabel('Cloudiness')\n",
    "\n",
    "#plot it\n",
    "plt.show()"
   ]
  },
  {
   "cell_type": "markdown",
   "metadata": {},
   "source": [
    "####  Southern Hemisphere - Cloudiness (%) vs. Latitude Linear Regression"
   ]
  },
  {
   "cell_type": "code",
   "execution_count": 96,
   "metadata": {},
   "outputs": [
    {
     "name": "stdout",
     "output_type": "stream",
     "text": [
      "The r-squared is: 0.0013712409861580143\n"
     ]
    },
    {
     "data": {
      "image/png": "[encoded data removed]",
      "text/plain": [
       "<Figure size 432x288 with 1 Axes>"
      ]
     },
     "metadata": {
      "needs_background": "light"
     },
     "output_type": "display_data"
    }
   ],
   "source": [
    "#xvalues\n",
    "x_values = southern_df['lat']\n",
    "\n",
    "#yvalues\n",
    "y_values = southern_df['Cloudiness']\n",
    "\n",
    "\n",
    "(slope, intercept, rvalue, pvalue, stderr) = linregress(x_values,y_values)\n",
    "regress_values = x_values * slope + intercept\n",
    "line_eq = \"y = \" + str(round(slope,2)) + \"x + \" + str(round(intercept,2))\n",
    "\n",
    "#print the r squared value\n",
    "print(f'The r-squared is: {rvalue**2}')\n",
    "\n",
    "#make the scatter plot\n",
    "plt.scatter(x_values,y_values, c='blue')\n",
    "\n",
    "#plot the \n",
    "plt.plot(x_values,regress_values,\"r-\")\n",
    "plt.annotate(line_eq,(-55, 15),fontsize=15,color=\"red\")\n",
    "\n",
    "#add labels and a title\n",
    "plt.xlabel('Latitude')\n",
    "plt.ylabel('Cloudiness')\n",
    "\n",
    "#plot it\n",
    "plt.show()"
   ]
  },
  {
   "cell_type": "markdown",
   "metadata": {},
   "source": [
    "####  Northern Hemisphere - Wind Speed (mph) vs. Latitude Linear Regression"
   ]
  },
  {
   "cell_type": "code",
   "execution_count": 97,
   "metadata": {},
   "outputs": [
    {
     "name": "stdout",
     "output_type": "stream",
     "text": [
      "The r-squared is: 0.0031567708386669884\n"
     ]
    },
    {
     "data": {
      "image/png": "[encoded data removed]",
      "text/plain": [
       "<Figure size 432x288 with 1 Axes>"
      ]
     },
     "metadata": {
      "needs_background": "light"
     },
     "output_type": "display_data"
    }
   ],
   "source": [
    "#xvalues\n",
    "x_values = northern_df['lat']\n",
    "\n",
    "#yvalues\n",
    "y_values = northern_df['Wind Speed']\n",
    "\n",
    "\n",
    "(slope, intercept, rvalue, pvalue, stderr) = linregress(x_values,y_values)\n",
    "regress_values = x_values * slope + intercept\n",
    "line_eq = \"y = \" + str(round(slope,2)) + \"x + \" + str(round(intercept,2))\n",
    "\n",
    "#print the r squared value\n",
    "print(f'The r-squared is: {rvalue**2}')\n",
    "\n",
    "#make the scatter plot\n",
    "plt.scatter(x_values,y_values, c='blue')\n",
    "\n",
    "#plot the \n",
    "plt.plot(x_values,regress_values,\"r-\")\n",
    "plt.annotate(line_eq,(40,14),fontsize=15,color=\"red\")\n",
    "\n",
    "#add labels and a title\n",
    "plt.xlabel('Latitude')\n",
    "plt.ylabel('Wind Speed')\n",
    "\n",
    "#plot it\n",
    "plt.show()"
   ]
  },
  {
   "cell_type": "markdown",
   "metadata": {},
   "source": [
    "####  Southern Hemisphere - Wind Speed (mph) vs. Latitude Linear Regression"
   ]
  },
  {
   "cell_type": "code",
   "execution_count": 98,
   "metadata": {},
   "outputs": [
    {
     "name": "stdout",
     "output_type": "stream",
     "text": [
      "The r-squared is: 0.001593939636651769\n"
     ]
    },
    {
     "data": {
      "image/png": "[encoded data removed]",
      "text/plain": [
       "<Figure size 432x288 with 1 Axes>"
      ]
     },
     "metadata": {
      "needs_background": "light"
     },
     "output_type": "display_data"
    }
   ],
   "source": [
    "#xvalues\n",
    "x_values = southern_df['lat']\n",
    "\n",
    "#yvalues\n",
    "y_values = southern_df['Wind Speed']\n",
    "\n",
    "\n",
    "(slope, intercept, rvalue, pvalue, stderr) = linregress(x_values,y_values)\n",
    "regress_values = x_values * slope + intercept\n",
    "line_eq = \"y = \" + str(round(slope,2)) + \"x + \" + str(round(intercept,2))\n",
    "\n",
    "#print the r squared value\n",
    "print(f'The r-squared is: {rvalue**2}')\n",
    "\n",
    "#make the scatter plot\n",
    "plt.scatter(x_values,y_values, c='blue')\n",
    "\n",
    "#plot the \n",
    "plt.plot(x_values,regress_values,\"r-\")\n",
    "plt.annotate(line_eq,(-50, 8),fontsize=15,color=\"red\")\n",
    "\n",
    "#add labels and a title\n",
    "plt.xlabel('Latitude')\n",
    "plt.ylabel('Wind Speed')\n",
    "\n",
    "#plot it\n",
    "plt.show()"
   ]
  },
  {
   "cell_type": "code",
   "execution_count": null,
   "metadata": {},
   "outputs": [],
   "source": []
  }
 ],
 "metadata": {
  "anaconda-cloud": {},
  "kernel_info": {
   "name": "python3"
  },
  "kernelspec": {
   "display_name": "Python 3",
   "language": "python",
   "name": "python3"
  },
  "language_info": {
   "codemirror_mode": {
    "name": "ipython",
    "version": 3
   },
   "file_extension": ".py",
   "mimetype": "text/x-python",
   "name": "python",
   "nbconvert_exporter": "python",
   "pygments_lexer": "ipython3",
   "version": "3.6.10"
  },
  "latex_envs": {
   "LaTeX_envs_menu_present": true,
   "autoclose": false,
   "autocomplete": true,
   "bibliofile": "biblio.bib",
   "cite_by": "apalike",
   "current_citInitial": 1,
   "eqLabelWithNumbers": true,
   "eqNumInitial": 1,
   "hotkeys": {
    "equation": "Ctrl-E",
    "itemize": "Ctrl-I"
   },
   "labels_anchors": false,
   "latex_user_defs": false,
   "report_style_numbering": false,
   "user_envs_cfg": false
  },
  "nteract": {
   "version": "0.12.3"
  }
 },
 "nbformat": 4,
 "nbformat_minor": 2
}
