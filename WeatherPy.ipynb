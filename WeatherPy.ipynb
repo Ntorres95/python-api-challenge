{
 "cells": [
  {
   "cell_type": "markdown",
   "metadata": {},
   "source": [
    "# WeatherPy\n",
    "----\n",
    "\n",
    "#### Note\n",
    "* Instructions have been included for each segment. You do not have to follow them exactly, but they are included to help you think through the steps."
   ]
  },
  {
   "cell_type": "code",
   "execution_count": 22,
   "metadata": {
    "scrolled": true
   },
   "outputs": [],
   "source": [
    "# Dependencies and Setup\n",
    "import matplotlib.pyplot as plt\n",
    "import pandas as pd\n",
    "import numpy as np\n",
    "import requests\n",
    "import time\n",
    "from scipy.stats import linregress\n",
    "from scipy import stats\n",
    "import pprint as pprint\n",
    "\n",
    "# Import API key\n",
    "from api_keys import weather_api_key\n",
    "\n",
    "# Incorporated citipy to determine city based on latitude and longitude\n",
    "from citipy import citipy\n",
    "\n",
    "# Output File (CSV)\n",
    "output_data_file = \"output_data/cities.csv\"\n",
    "\n",
    "# Range of latitudes and longitudes\n",
    "lat_range = (-90, 90)\n",
    "lng_range = (-180, 180)"
   ]
  },
  {
   "cell_type": "markdown",
   "metadata": {},
   "source": [
    "## Generate Cities List"
   ]
  },
  {
   "cell_type": "code",
   "execution_count": 3,
   "metadata": {},
   "outputs": [
    {
     "data": {
      "text/plain": [
       "621"
      ]
     },
     "execution_count": 3,
     "metadata": {},
     "output_type": "execute_result"
    }
   ],
   "source": [
    "# List for holding lat_lngs and cities\n",
    "lat_lngs = []\n",
    "cities = []\n",
    "\n",
    "# Create a set of random lat and lng combinations\n",
    "lats = np.random.uniform(lat_range[0], lat_range[1], size=1500)\n",
    "lngs = np.random.uniform(lng_range[0], lng_range[1], size=1500)\n",
    "lat_lngs = zip(lats, lngs)\n",
    "\n",
    "# Identify nearest city for each lat, lng combination\n",
    "for lat_lng in lat_lngs:\n",
    "    city = citipy.nearest_city(lat_lng[0], lat_lng[1]).city_name\n",
    "    \n",
    "    # If the city is unique, then add it to a our cities list\n",
    "    if city not in cities:\n",
    "        cities.append(city)\n",
    "\n",
    "# Print the city count to confirm sufficient count\n",
    "len(cities)\n",
    "\n",
    "#check to see what this is actually collecting\n",
    "#cities"
   ]
  },
  {
   "cell_type": "markdown",
   "metadata": {},
   "source": [
    "### Perform API Calls\n",
    "* Perform a weather check on each city using a series of successive API calls.\n",
    "* Include a print log of each city as it'sbeing processed (with the city number and city name).\n"
   ]
  },
  {
   "cell_type": "code",
   "execution_count": 4,
   "metadata": {},
   "outputs": [],
   "source": [
    "#url for weather data\n",
    "url = \"http://api.openweathermap.org/data/2.5/weather?\""
   ]
  },
  {
   "cell_type": "code",
   "execution_count": 5,
   "metadata": {},
   "outputs": [
    {
     "name": "stdout",
     "output_type": "stream",
     "text": [
      "Beginning Data Retrieval\n",
      "-----------------------------\n",
      "City not found. Skipping...\n",
      "Processing Record 2 of Set  | cape town\n",
      "Processing Record 3 of Set  | chengde\n",
      "Processing Record 4 of Set  | rikitea\n",
      "Processing Record 5 of Set  | hithadhoo\n",
      "Processing Record 6 of Set  | sitka\n",
      "Processing Record 7 of Set  | cortez\n",
      "Processing Record 8 of Set  | sioux lookout\n",
      "Processing Record 9 of Set  | saldanha\n",
      "City not found. Skipping...\n",
      "Processing Record 11 of Set  | cockburn town\n",
      "Processing Record 12 of Set  | tasiilaq\n",
      "Processing Record 13 of Set  | bredasdorp\n",
      "Processing Record 14 of Set  | husavik\n",
      "Processing Record 15 of Set  | port alfred\n",
      "Processing Record 16 of Set  | nanortalik\n",
      "Processing Record 17 of Set  | basoko\n",
      "Processing Record 18 of Set  | aykhal\n",
      "Processing Record 19 of Set  | castro\n",
      "Processing Record 20 of Set  | ushuaia\n",
      "Processing Record 21 of Set  | zhaodong\n",
      "Processing Record 22 of Set  | mar del plata\n",
      "Processing Record 23 of Set  | ilulissat\n",
      "Processing Record 24 of Set  | meulaboh\n",
      "Processing Record 25 of Set  | longyearbyen\n",
      "Processing Record 26 of Set  | nogent-le-rotrou\n",
      "City not found. Skipping...\n",
      "Processing Record 28 of Set  | codrington\n",
      "Processing Record 29 of Set  | karatau\n",
      "Processing Record 30 of Set  | dikson\n",
      "Processing Record 31 of Set  | williams lake\n",
      "Processing Record 32 of Set  | hobart\n",
      "Processing Record 33 of Set  | san patricio\n",
      "Processing Record 34 of Set  | busselton\n",
      "Processing Record 35 of Set  | salalah\n",
      "Processing Record 36 of Set  | yellowknife\n",
      "Processing Record 37 of Set  | nome\n",
      "Processing Record 38 of Set  | hrodna\n",
      "Processing Record 39 of Set  | guerrero negro\n",
      "Processing Record 40 of Set  | jamestown\n",
      "Processing Record 41 of Set  | grand gaube\n",
      "Processing Record 42 of Set  | kodiak\n",
      "Processing Record 43 of Set  | bluff\n",
      "Processing Record 44 of Set  | bengkulu\n",
      "Processing Record 45 of Set  | mataura\n",
      "Processing Record 46 of Set  | arraial do cabo\n",
      "Processing Record 47 of Set  | hilo\n",
      "Processing Record 48 of Set  | bulgan\n",
      "Processing Record 49 of Set  | upernavik\n",
      "Processing Record 50 of Set  | east london\n",
      "Processing Record 51 of Set  | thompson\n",
      "Processing Record 52 of Set  | xicotencatl\n",
      "City not found. Skipping...\n",
      "Processing Record 54 of Set  | taoudenni\n",
      "Processing Record 55 of Set  | saint-augustin\n",
      "Processing Record 56 of Set  | butaritari\n",
      "Processing Record 57 of Set  | gat\n",
      "Processing Record 58 of Set  | altay\n",
      "Processing Record 59 of Set  | lebu\n",
      "Processing Record 60 of Set  | punta arenas\n",
      "Processing Record 61 of Set  | susanville\n",
      "Processing Record 62 of Set  | la ronge\n",
      "Processing Record 63 of Set  | sanming\n",
      "Processing Record 64 of Set  | kavaratti\n",
      "Processing Record 65 of Set  | nassau\n",
      "Processing Record 66 of Set  | nantucket\n",
      "Processing Record 67 of Set  | tilichiki\n",
      "City not found. Skipping...\n",
      "Processing Record 69 of Set  | papillion\n",
      "Processing Record 70 of Set  | raudeberg\n",
      "Processing Record 71 of Set  | matara\n",
      "Processing Record 72 of Set  | ahipara\n",
      "Processing Record 73 of Set  | avarua\n",
      "Processing Record 74 of Set  | vawkavysk\n",
      "Processing Record 75 of Set  | vila franca do campo\n",
      "Processing Record 76 of Set  | saint george\n",
      "Processing Record 77 of Set  | goderich\n",
      "Processing Record 78 of Set  | ancud\n",
      "City not found. Skipping...\n",
      "Processing Record 80 of Set  | albany\n",
      "Processing Record 81 of Set  | leh\n",
      "Processing Record 82 of Set  | provideniya\n",
      "Processing Record 83 of Set  | iqaluit\n",
      "Processing Record 84 of Set  | huron\n",
      "Processing Record 85 of Set  | torbay\n",
      "Processing Record 86 of Set  | kaitangata\n",
      "Processing Record 87 of Set  | quatre cocos\n",
      "Processing Record 88 of Set  | consuegra\n",
      "Processing Record 89 of Set  | new norfolk\n",
      "Processing Record 90 of Set  | hermanus\n",
      "Processing Record 91 of Set  | deputatskiy\n",
      "Processing Record 92 of Set  | fort nelson\n",
      "Processing Record 93 of Set  | aitape\n",
      "City not found. Skipping...\n",
      "Processing Record 95 of Set  | taihe\n",
      "Processing Record 96 of Set  | antalaha\n",
      "Processing Record 97 of Set  | saskylakh\n",
      "Processing Record 98 of Set  | cedar city\n",
      "Processing Record 99 of Set  | winslow\n",
      "Processing Record 100 of Set  | usinsk\n",
      "Processing Record 101 of Set  | kloulklubed\n",
      "Processing Record 102 of Set  | ponta do sol\n",
      "Processing Record 103 of Set  | san juan\n",
      "Processing Record 104 of Set  | sao raimundo nonato\n",
      "Processing Record 105 of Set  | yulara\n",
      "Processing Record 106 of Set  | nakamura\n",
      "City not found. Skipping...\n",
      "Processing Record 108 of Set  | villa carlos paz\n",
      "Processing Record 109 of Set  | mamallapuram\n",
      "Processing Record 110 of Set  | kedrovyy\n",
      "Processing Record 111 of Set  | bastia\n",
      "Processing Record 112 of Set  | ribeira grande\n",
      "Processing Record 113 of Set  | bandar-e lengeh\n",
      "Processing Record 114 of Set  | saint-joseph\n",
      "Processing Record 115 of Set  | qaanaaq\n",
      "Processing Record 116 of Set  | opuwo\n",
      "Processing Record 117 of Set  | avera\n",
      "Processing Record 118 of Set  | fengzhen\n",
      "Processing Record 119 of Set  | ust-ilimsk\n",
      "Processing Record 120 of Set  | port elizabeth\n",
      "Processing Record 121 of Set  | leningradskiy\n",
      "City not found. Skipping...\n",
      "City not found. Skipping...\n",
      "Processing Record 124 of Set  | stornoway\n",
      "Processing Record 125 of Set  | kondinskoye\n",
      "Processing Record 126 of Set  | vredendal\n",
      "Processing Record 127 of Set  | upington\n",
      "City not found. Skipping...\n",
      "Processing Record 129 of Set  | atuona\n",
      "Processing Record 130 of Set  | armidale\n",
      "Processing Record 131 of Set  | vaini\n",
      "Processing Record 132 of Set  | bethel\n",
      "Processing Record 133 of Set  | grindavik\n",
      "Processing Record 134 of Set  | shingu\n",
      "Processing Record 135 of Set  | comodoro rivadavia\n",
      "Processing Record 136 of Set  | chuy\n",
      "Processing Record 137 of Set  | kouroussa\n",
      "Processing Record 138 of Set  | pisco\n",
      "City not found. Skipping...\n",
      "Processing Record 140 of Set  | shubarkuduk\n",
      "Processing Record 141 of Set  | barrow\n",
      "Processing Record 142 of Set  | wajima\n",
      "City not found. Skipping...\n",
      "Processing Record 144 of Set  | mbeya\n",
      "City not found. Skipping...\n",
      "City not found. Skipping...\n",
      "Processing Record 147 of Set  | petropavlovsk-kamchatskiy\n",
      "Processing Record 148 of Set  | luderitz\n",
      "Processing Record 149 of Set  | freeport\n",
      "Processing Record 150 of Set  | riyadh\n",
      "Processing Record 151 of Set  | pran buri\n",
      "Processing Record 152 of Set  | wangou\n",
      "Processing Record 153 of Set  | sur\n",
      "Processing Record 154 of Set  | krasnoselkup\n",
      "Processing Record 155 of Set  | seredka\n",
      "Processing Record 156 of Set  | djambala\n",
      "City not found. Skipping...\n",
      "Processing Record 158 of Set  | manokwari\n",
      "Processing Record 159 of Set  | cabo san lucas\n",
      "Processing Record 160 of Set  | ponta delgada\n",
      "City not found. Skipping...\n",
      "City not found. Skipping...\n",
      "Processing Record 163 of Set  | mount gambier\n",
      "Processing Record 164 of Set  | souillac\n",
      "Processing Record 165 of Set  | katsuura\n",
      "Processing Record 166 of Set  | toba tek singh\n",
      "Processing Record 167 of Set  | avanigadda\n",
      "Processing Record 168 of Set  | juan lacaze\n",
      "Processing Record 169 of Set  | hami\n",
      "City not found. Skipping...\n",
      "Processing Record 171 of Set  | fukue\n",
      "Processing Record 172 of Set  | antofagasta\n",
      "Processing Record 173 of Set  | menongue\n",
      "Processing Record 174 of Set  | bozoum\n",
      "Processing Record 175 of Set  | hovd\n",
      "Processing Record 176 of Set  | carnarvon\n",
      "Processing Record 177 of Set  | namibe\n",
      "Processing Record 178 of Set  | berdigestyakh\n",
      "Processing Record 179 of Set  | tuatapere\n",
      "Processing Record 180 of Set  | lompoc\n",
      "Processing Record 181 of Set  | san juan bautista\n",
      "Processing Record 182 of Set  | vardo\n",
      "Processing Record 183 of Set  | puerto ayora\n",
      "Processing Record 184 of Set  | sivas\n",
      "Processing Record 185 of Set  | geraldton\n",
      "Processing Record 186 of Set  | port hedland\n",
      "Processing Record 187 of Set  | jumla\n",
      "Processing Record 188 of Set  | chilca\n",
      "Processing Record 189 of Set  | los llanos de aridane\n",
      "Processing Record 190 of Set  | mount isa\n",
      "Processing Record 191 of Set  | poso\n",
      "Processing Record 192 of Set  | morococha\n",
      "City not found. Skipping...\n",
      "Processing Record 194 of Set  | bom jesus\n",
      "Processing Record 195 of Set  | murmashi\n",
      "Processing Record 196 of Set  | mahebourg\n",
      "Processing Record 197 of Set  | port lincoln\n",
      "Processing Record 198 of Set  | thunder bay\n",
      "Processing Record 199 of Set  | praia\n",
      "Processing Record 200 of Set  | draguignan\n",
      "Processing Record 201 of Set  | lisakovsk\n",
      "Processing Record 202 of Set  | newport\n",
      "City not found. Skipping...\n",
      "Processing Record 204 of Set  | hasaki\n"
     ]
    },
    {
     "name": "stdout",
     "output_type": "stream",
     "text": [
      "Processing Record 205 of Set  | socorro\n",
      "Processing Record 206 of Set  | pevek\n",
      "Processing Record 207 of Set  | lanzhou\n",
      "Processing Record 208 of Set  | maputo\n",
      "Processing Record 209 of Set  | north bend\n",
      "Processing Record 210 of Set  | slave lake\n",
      "Processing Record 211 of Set  | buloh kasap\n",
      "Processing Record 212 of Set  | susaki\n",
      "Processing Record 213 of Set  | suntar\n",
      "Processing Record 214 of Set  | buraydah\n",
      "Processing Record 215 of Set  | launceston\n",
      "Processing Record 216 of Set  | bambous virieux\n",
      "Processing Record 217 of Set  | biak\n",
      "Processing Record 218 of Set  | chokurdakh\n",
      "Processing Record 219 of Set  | brae\n",
      "City not found. Skipping...\n",
      "Processing Record 221 of Set  | kavieng\n",
      "Processing Record 222 of Set  | mehamn\n",
      "Processing Record 223 of Set  | taitung\n",
      "Processing Record 224 of Set  | bridgetown\n",
      "Processing Record 225 of Set  | pacific grove\n",
      "Processing Record 226 of Set  | sobolevo\n",
      "Processing Record 227 of Set  | khatanga\n",
      "Processing Record 228 of Set  | kapaa\n",
      "Processing Record 229 of Set  | buala\n",
      "Processing Record 230 of Set  | boca do acre\n",
      "Processing Record 231 of Set  | labuhan\n",
      "Processing Record 232 of Set  | ampanihy\n",
      "Processing Record 233 of Set  | marawi\n",
      "Processing Record 234 of Set  | anadyr\n",
      "Processing Record 235 of Set  | washim\n",
      "Processing Record 236 of Set  | norman wells\n",
      "Processing Record 237 of Set  | belle glade\n",
      "Processing Record 238 of Set  | gorele\n",
      "Processing Record 239 of Set  | talnakh\n",
      "Processing Record 240 of Set  | uni\n",
      "Processing Record 241 of Set  | krapkowice\n",
      "Processing Record 242 of Set  | srednekolymsk\n",
      "Processing Record 243 of Set  | novyy urengoy\n",
      "Processing Record 244 of Set  | inhambane\n",
      "Processing Record 245 of Set  | almaznyy\n",
      "City not found. Skipping...\n",
      "Processing Record 247 of Set  | kattivakkam\n",
      "Processing Record 248 of Set  | pangai\n",
      "Processing Record 249 of Set  | cherskiy\n",
      "Processing Record 250 of Set  | juneau\n",
      "Processing Record 251 of Set  | lakes entrance\n",
      "Processing Record 252 of Set  | qaqortoq\n",
      "Processing Record 253 of Set  | orlovskiy\n",
      "Processing Record 254 of Set  | victor harbor\n",
      "Processing Record 255 of Set  | freetown\n",
      "Processing Record 256 of Set  | ternate\n",
      "Processing Record 257 of Set  | lagoa\n",
      "Processing Record 258 of Set  | lucapa\n",
      "Processing Record 259 of Set  | carbonia\n",
      "Processing Record 260 of Set  | asmar\n",
      "Processing Record 261 of Set  | cartagena\n",
      "Processing Record 262 of Set  | kushiro\n",
      "Processing Record 263 of Set  | lasa\n",
      "Processing Record 264 of Set  | emerald\n",
      "Processing Record 265 of Set  | sinnamary\n",
      "Processing Record 266 of Set  | levokumskoye\n",
      "Processing Record 267 of Set  | kanniyakumari\n",
      "Processing Record 268 of Set  | palmer\n",
      "Processing Record 269 of Set  | oriximina\n",
      "Processing Record 270 of Set  | santo anastacio\n",
      "Processing Record 271 of Set  | bilma\n",
      "Processing Record 272 of Set  | broome\n",
      "Processing Record 273 of Set  | caravelas\n",
      "City not found. Skipping...\n",
      "Processing Record 275 of Set  | rognan\n",
      "Processing Record 276 of Set  | morant bay\n",
      "Processing Record 277 of Set  | chicama\n",
      "Processing Record 278 of Set  | itambacuri\n",
      "Processing Record 279 of Set  | khandbari\n",
      "Processing Record 280 of Set  | vila velha\n",
      "City not found. Skipping...\n",
      "Processing Record 282 of Set  | bowen\n",
      "Processing Record 283 of Set  | sao filipe\n",
      "Processing Record 284 of Set  | kenitra\n",
      "City not found. Skipping...\n",
      "Processing Record 286 of Set  | natal\n",
      "Processing Record 287 of Set  | quelimane\n",
      "Processing Record 288 of Set  | biltine\n",
      "Processing Record 289 of Set  | herborn\n",
      "Processing Record 290 of Set  | marsh harbour\n",
      "City not found. Skipping...\n",
      "Processing Record 292 of Set  | marienburg\n",
      "Processing Record 293 of Set  | celendin\n",
      "Processing Record 294 of Set  | jinchang\n",
      "Processing Record 295 of Set  | lavrentiya\n",
      "Processing Record 296 of Set  | rypefjord\n",
      "Processing Record 297 of Set  | duvan\n",
      "Processing Record 298 of Set  | cidreira\n",
      "City not found. Skipping...\n",
      "Processing Record 300 of Set  | manzhouli\n",
      "Processing Record 301 of Set  | erzin\n",
      "Processing Record 302 of Set  | kununurra\n",
      "Processing Record 303 of Set  | severo-kurilsk\n",
      "Processing Record 304 of Set  | nizhniy kislyay\n",
      "Processing Record 305 of Set  | pochutla\n",
      "Processing Record 306 of Set  | lorengau\n",
      "Processing Record 307 of Set  | isangel\n",
      "City not found. Skipping...\n",
      "Processing Record 309 of Set  | narsaq\n",
      "Processing Record 310 of Set  | monroe\n",
      "Processing Record 311 of Set  | college\n",
      "Processing Record 312 of Set  | mersing\n",
      "Processing Record 313 of Set  | russell\n",
      "Processing Record 314 of Set  | tuktoyaktuk\n",
      "Processing Record 315 of Set  | dandong\n",
      "Processing Record 316 of Set  | alugan\n",
      "City not found. Skipping...\n",
      "Processing Record 318 of Set  | nehe\n",
      "Processing Record 319 of Set  | ikalamavony\n",
      "Processing Record 320 of Set  | cootamundra\n",
      "Processing Record 321 of Set  | mackenzie\n",
      "Processing Record 322 of Set  | winnemucca\n",
      "City not found. Skipping...\n",
      "Processing Record 324 of Set  | mill valley\n",
      "Processing Record 325 of Set  | jasrana\n",
      "Processing Record 326 of Set  | baherden\n",
      "Processing Record 327 of Set  | kalmunai\n",
      "Processing Record 328 of Set  | kahului\n",
      "Processing Record 329 of Set  | sola\n",
      "Processing Record 330 of Set  | hamilton\n",
      "Processing Record 331 of Set  | saint-philippe\n",
      "City not found. Skipping...\n",
      "Processing Record 333 of Set  | beringovskiy\n",
      "City not found. Skipping...\n",
      "Processing Record 335 of Set  | tessalit\n",
      "Processing Record 336 of Set  | bull savanna\n",
      "Processing Record 337 of Set  | nikolskoye\n",
      "Processing Record 338 of Set  | cururupu\n",
      "Processing Record 339 of Set  | jalu\n",
      "Processing Record 340 of Set  | port perry\n",
      "Processing Record 341 of Set  | andenes\n",
      "Processing Record 342 of Set  | shimoda\n",
      "Processing Record 343 of Set  | fairbanks\n",
      "Processing Record 344 of Set  | coquimbo\n",
      "City not found. Skipping...\n",
      "Processing Record 346 of Set  | dalnerechensk\n",
      "Processing Record 347 of Set  | ketchikan\n",
      "Processing Record 348 of Set  | alofi\n",
      "Processing Record 349 of Set  | capitan miranda\n",
      "Processing Record 350 of Set  | ballina\n",
      "Processing Record 351 of Set  | udachnyy\n",
      "Processing Record 352 of Set  | zhigansk\n",
      "Processing Record 353 of Set  | rabo de peixe\n",
      "Processing Record 354 of Set  | beni suef\n",
      "Processing Record 355 of Set  | port blair\n",
      "Processing Record 356 of Set  | alakurtti\n",
      "Processing Record 357 of Set  | anito\n",
      "Processing Record 358 of Set  | ferkessedougou\n",
      "City not found. Skipping...\n",
      "Processing Record 360 of Set  | ambilobe\n",
      "Processing Record 361 of Set  | fort saint james\n",
      "Processing Record 362 of Set  | bandarbeyla\n",
      "Processing Record 363 of Set  | san benito\n",
      "Processing Record 364 of Set  | kui buri\n",
      "Processing Record 365 of Set  | havelock\n",
      "Processing Record 366 of Set  | tazovskiy\n",
      "City not found. Skipping...\n",
      "Processing Record 368 of Set  | ayan\n",
      "Processing Record 369 of Set  | tiarei\n",
      "Processing Record 370 of Set  | batesville\n",
      "Processing Record 371 of Set  | oranjemund\n",
      "Processing Record 372 of Set  | usevya\n",
      "Processing Record 373 of Set  | san quintin\n",
      "Processing Record 374 of Set  | pokhara\n",
      "Processing Record 375 of Set  | alice springs\n",
      "Processing Record 376 of Set  | mbini\n",
      "Processing Record 377 of Set  | inverell\n",
      "City not found. Skipping...\n",
      "Processing Record 379 of Set  | victoria\n",
      "City not found. Skipping...\n",
      "Processing Record 381 of Set  | ostrovnoy\n",
      "Processing Record 382 of Set  | leshukonskoye\n",
      "Processing Record 383 of Set  | marystown\n",
      "Processing Record 384 of Set  | beyneu\n",
      "Processing Record 385 of Set  | billings\n",
      "Processing Record 386 of Set  | plouzane\n",
      "Processing Record 387 of Set  | saint-louis\n",
      "Processing Record 388 of Set  | dunedin\n",
      "Processing Record 389 of Set  | san rafael\n",
      "Processing Record 390 of Set  | adrar\n",
      "Processing Record 391 of Set  | ruston\n",
      "Processing Record 392 of Set  | kaeo\n",
      "Processing Record 393 of Set  | huai yot\n",
      "Processing Record 394 of Set  | chara\n",
      "Processing Record 395 of Set  | ocean city\n",
      "Processing Record 396 of Set  | joao pinheiro\n",
      "Processing Record 397 of Set  | ust-barguzin\n",
      "Processing Record 398 of Set  | port macquarie\n",
      "Processing Record 399 of Set  | mayya\n",
      "Processing Record 400 of Set  | wete\n",
      "Processing Record 401 of Set  | linqiong\n",
      "Processing Record 402 of Set  | pedasi\n",
      "City not found. Skipping...\n",
      "Processing Record 404 of Set  | chuncheng\n",
      "Processing Record 405 of Set  | asfi\n",
      "Processing Record 406 of Set  | flin flon\n",
      "Processing Record 407 of Set  | hualmay\n",
      "Processing Record 408 of Set  | ranong\n",
      "Processing Record 409 of Set  | san cristobal\n"
     ]
    },
    {
     "name": "stdout",
     "output_type": "stream",
     "text": [
      "Processing Record 410 of Set  | kommunisticheskiy\n",
      "Processing Record 411 of Set  | dryden\n",
      "Processing Record 412 of Set  | huarmey\n",
      "Processing Record 413 of Set  | constitucion\n",
      "Processing Record 414 of Set  | canon city\n",
      "Processing Record 415 of Set  | puerto leguizamo\n",
      "Processing Record 416 of Set  | yar-sale\n",
      "Processing Record 417 of Set  | george\n",
      "Processing Record 418 of Set  | claremont\n",
      "Processing Record 419 of Set  | sorland\n",
      "Processing Record 420 of Set  | roald\n",
      "City not found. Skipping...\n",
      "City not found. Skipping...\n",
      "Processing Record 423 of Set  | kushima\n",
      "Processing Record 424 of Set  | barabai\n",
      "Processing Record 425 of Set  | nicosia\n",
      "Processing Record 426 of Set  | redcar\n",
      "Processing Record 427 of Set  | faanui\n",
      "Processing Record 428 of Set  | maracaju\n",
      "Processing Record 429 of Set  | bauchi\n",
      "Processing Record 430 of Set  | coos bay\n",
      "Processing Record 431 of Set  | sao felix do xingu\n",
      "Processing Record 432 of Set  | bonnyville\n",
      "Processing Record 433 of Set  | half moon bay\n",
      "Processing Record 434 of Set  | clyde river\n",
      "Processing Record 435 of Set  | puerto palomas\n",
      "Processing Record 436 of Set  | dingle\n",
      "Processing Record 437 of Set  | sao joao da barra\n",
      "Processing Record 438 of Set  | puquio\n",
      "Processing Record 439 of Set  | yadgir\n",
      "Processing Record 440 of Set  | kruisfontein\n",
      "Processing Record 441 of Set  | nichinan\n",
      "City not found. Skipping...\n",
      "Processing Record 443 of Set  | saint-denis\n",
      "Processing Record 444 of Set  | panaba\n",
      "Processing Record 445 of Set  | kieta\n",
      "Processing Record 446 of Set  | wencheng\n",
      "Processing Record 447 of Set  | albenga\n",
      "Processing Record 448 of Set  | sidi ali\n",
      "Processing Record 449 of Set  | henties bay\n",
      "Processing Record 450 of Set  | georgiyevka\n",
      "Processing Record 451 of Set  | chardara\n",
      "Processing Record 452 of Set  | fare\n",
      "Processing Record 453 of Set  | mandan\n",
      "Processing Record 454 of Set  | high level\n",
      "Processing Record 455 of Set  | purpe\n",
      "Processing Record 456 of Set  | coahuayana\n",
      "Processing Record 457 of Set  | oranjestad\n",
      "Processing Record 458 of Set  | touros\n",
      "Processing Record 459 of Set  | ferrol\n",
      "Processing Record 460 of Set  | birin\n",
      "Processing Record 461 of Set  | arkhara\n",
      "Processing Record 462 of Set  | pontian kecil\n",
      "City not found. Skipping...\n",
      "Processing Record 464 of Set  | albemarle\n",
      "Processing Record 465 of Set  | taltal\n",
      "Processing Record 466 of Set  | severnyy\n",
      "City not found. Skipping...\n",
      "Processing Record 468 of Set  | bonthe\n",
      "Processing Record 469 of Set  | llandrindod wells\n",
      "Processing Record 470 of Set  | jiazi\n",
      "Processing Record 471 of Set  | kapiri mposhi\n",
      "Processing Record 472 of Set  | morondava\n",
      "Processing Record 473 of Set  | dole\n",
      "Processing Record 474 of Set  | okhotsk\n",
      "Processing Record 475 of Set  | anju\n",
      "Processing Record 476 of Set  | awjilah\n",
      "Processing Record 477 of Set  | tommot\n",
      "Processing Record 478 of Set  | ulladulla\n",
      "Processing Record 479 of Set  | aljezur\n",
      "Processing Record 480 of Set  | shache\n",
      "Processing Record 481 of Set  | matagami\n",
      "Processing Record 482 of Set  | aklavik\n",
      "Processing Record 483 of Set  | itapaci\n",
      "Processing Record 484 of Set  | oussouye\n",
      "Processing Record 485 of Set  | denison\n",
      "Processing Record 486 of Set  | chapais\n",
      "Processing Record 487 of Set  | korem\n",
      "City not found. Skipping...\n",
      "Processing Record 489 of Set  | havoysund\n",
      "Processing Record 490 of Set  | pingshan\n",
      "Processing Record 491 of Set  | prado\n",
      "Processing Record 492 of Set  | teluknaga\n",
      "Processing Record 493 of Set  | batagay\n",
      "Processing Record 494 of Set  | condado\n",
      "Processing Record 495 of Set  | igarka\n",
      "Processing Record 496 of Set  | verkhoturye\n",
      "Processing Record 497 of Set  | havre-saint-pierre\n",
      "Processing Record 498 of Set  | davila\n",
      "Processing Record 499 of Set  | lovozero\n",
      "Processing Record 500 of Set  | vanimo\n",
      "Processing Record 501 of Set  | namwala\n",
      "Processing Record 502 of Set  | samsun\n",
      "Processing Record 503 of Set  | de-kastri\n",
      "Processing Record 504 of Set  | kandrian\n",
      "Processing Record 505 of Set  | komatipoort\n",
      "Processing Record 506 of Set  | port-gentil\n",
      "Processing Record 507 of Set  | kinango\n",
      "Processing Record 508 of Set  | jacareacanga\n",
      "Processing Record 509 of Set  | sabancuy\n",
      "Processing Record 510 of Set  | agadez\n",
      "Processing Record 511 of Set  | viedma\n",
      "Processing Record 512 of Set  | sesheke\n",
      "Processing Record 513 of Set  | faya\n",
      "Processing Record 514 of Set  | chignahuapan\n",
      "Processing Record 515 of Set  | vao\n",
      "Processing Record 516 of Set  | esperance\n",
      "Processing Record 517 of Set  | necochea\n",
      "Processing Record 518 of Set  | ippy\n",
      "Processing Record 519 of Set  | kigoma\n",
      "Processing Record 520 of Set  | baruun-urt\n",
      "Processing Record 521 of Set  | beisfjord\n",
      "Processing Record 522 of Set  | lhokseumawe\n",
      "Processing Record 523 of Set  | ripiceni\n",
      "Processing Record 524 of Set  | kapuskasing\n",
      "Processing Record 525 of Set  | macia\n",
      "City not found. Skipping...\n",
      "Processing Record 527 of Set  | haines junction\n",
      "Processing Record 528 of Set  | the valley\n",
      "Processing Record 529 of Set  | oschersleben\n",
      "Processing Record 530 of Set  | oktyabrskiy\n",
      "Processing Record 531 of Set  | raga\n",
      "Processing Record 532 of Set  | muros\n",
      "Processing Record 533 of Set  | berlevag\n",
      "Processing Record 534 of Set  | anloga\n",
      "Processing Record 535 of Set  | namatanai\n",
      "Processing Record 536 of Set  | atar\n",
      "Processing Record 537 of Set  | rio grande\n",
      "Processing Record 538 of Set  | murshidabad\n",
      "Processing Record 539 of Set  | cotonou\n",
      "Processing Record 540 of Set  | georgetown\n",
      "Processing Record 541 of Set  | hays\n",
      "Processing Record 542 of Set  | la mira\n",
      "City not found. Skipping...\n",
      "Processing Record 544 of Set  | berezniki\n",
      "Processing Record 545 of Set  | toyooka\n",
      "Processing Record 546 of Set  | mariental\n",
      "Processing Record 547 of Set  | shitanjing\n",
      "Processing Record 548 of Set  | tongliao\n",
      "Processing Record 549 of Set  | lakhipur\n",
      "Processing Record 550 of Set  | maniwaki\n",
      "Processing Record 551 of Set  | asau\n",
      "Processing Record 552 of Set  | chalchihuites\n",
      "Processing Record 553 of Set  | jasper\n",
      "Processing Record 554 of Set  | puerto escondido\n",
      "City not found. Skipping...\n",
      "Processing Record 556 of Set  | padang\n",
      "Processing Record 557 of Set  | kadyy\n",
      "Processing Record 558 of Set  | mbandaka\n",
      "Processing Record 559 of Set  | atbasar\n",
      "Processing Record 560 of Set  | harnosand\n",
      "Processing Record 561 of Set  | inongo\n",
      "City not found. Skipping...\n",
      "Processing Record 563 of Set  | esfahan\n",
      "Processing Record 564 of Set  | tiksi\n",
      "Processing Record 565 of Set  | alvaraes\n",
      "Processing Record 566 of Set  | lebedinyy\n",
      "Processing Record 567 of Set  | zambezi\n",
      "Processing Record 568 of Set  | coari\n",
      "Processing Record 569 of Set  | alexandria\n",
      "City not found. Skipping...\n",
      "City not found. Skipping...\n",
      "Processing Record 572 of Set  | conceicao do araguaia\n",
      "Processing Record 573 of Set  | lamont\n",
      "Processing Record 574 of Set  | montes altos\n",
      "Processing Record 575 of Set  | denizli\n",
      "Processing Record 576 of Set  | saint-pierre\n",
      "Processing Record 577 of Set  | lebanon\n",
      "Processing Record 578 of Set  | xochistlahuaca\n",
      "Processing Record 579 of Set  | rundu\n",
      "Processing Record 580 of Set  | pahrump\n",
      "Processing Record 581 of Set  | casteldaccia\n",
      "Processing Record 582 of Set  | edgewater\n",
      "Processing Record 583 of Set  | komsomolskiy\n",
      "Processing Record 584 of Set  | smoky lake\n",
      "Processing Record 585 of Set  | coihaique\n",
      "Processing Record 586 of Set  | ayagoz\n",
      "Processing Record 587 of Set  | jiangyou\n",
      "Processing Record 588 of Set  | egvekinot\n",
      "Processing Record 589 of Set  | mobaye\n",
      "Processing Record 590 of Set  | sao jose da coroa grande\n",
      "Processing Record 591 of Set  | mount pleasant\n",
      "Processing Record 592 of Set  | port moresby\n",
      "Processing Record 593 of Set  | nador\n",
      "Processing Record 594 of Set  | cap-aux-meules\n",
      "Processing Record 595 of Set  | itapetinga\n",
      "Processing Record 596 of Set  | klyuchi\n",
      "Processing Record 597 of Set  | ulaangom\n",
      "Processing Record 598 of Set  | kiyasovo\n",
      "City not found. Skipping...\n",
      "Processing Record 600 of Set  | abnub\n",
      "Processing Record 601 of Set  | nizhniy tsasuchey\n",
      "Processing Record 602 of Set  | sikasso\n",
      "Processing Record 603 of Set  | rahimatpur\n",
      "Processing Record 604 of Set  | axim\n",
      "Processing Record 605 of Set  | le port\n",
      "Processing Record 606 of Set  | poum\n",
      "Processing Record 607 of Set  | arlit\n",
      "Processing Record 608 of Set  | broken hill\n",
      "Processing Record 609 of Set  | kirksville\n",
      "Processing Record 610 of Set  | curup\n",
      "Processing Record 611 of Set  | puebla\n"
     ]
    },
    {
     "name": "stdout",
     "output_type": "stream",
     "text": [
      "Processing Record 612 of Set  | fortuna\n",
      "Processing Record 613 of Set  | rocha\n",
      "Processing Record 614 of Set  | paita\n",
      "Processing Record 615 of Set  | ravar\n",
      "Processing Record 616 of Set  | kurilsk\n",
      "Processing Record 617 of Set  | inuvik\n",
      "Processing Record 618 of Set  | klaksvik\n",
      "Processing Record 619 of Set  | burgos\n",
      "Processing Record 620 of Set  | argentan\n",
      "Processing Record 621 of Set  | dunmanway\n",
      "-----------------------------\n",
      "Data Retrieval Complete\n",
      "-----------------------------\n"
     ]
    }
   ],
   "source": [
    "#initialize the lists for all the data\n",
    "lat_list = []\n",
    "long_list = []\n",
    "max_temp_list = []\n",
    "clouds_list = []\n",
    "humidity_list = []\n",
    "wind_list = []\n",
    "country_list = []\n",
    "city_list = []\n",
    "date_list = []\n",
    "\n",
    "#signaling the beginning of the data retrieval\n",
    "print(\"Beginning Data Retrieval\")\n",
    "print(\"-----------------------------\")\n",
    "\n",
    "#loop to get city data\n",
    "for city in cities:\n",
    "    \n",
    "    # Build query URL\n",
    "    query_url = url + \"appid=\" + weather_api_key + \"&q=\" + city\n",
    "\n",
    "    #json request\n",
    "    response = requests.get(query_url).json()\n",
    "\n",
    "    #conditional to check for cities not found\n",
    "    if response == {'cod': '404', 'message': 'city not found'}:\n",
    "        print(\"City not found. Skipping...\")\n",
    "    \n",
    "    #conditional for cities found\n",
    "    else:\n",
    "        \n",
    "        #sanity check\n",
    "        #pprint.pprint(response)\n",
    "        \n",
    "        #save the new city list\n",
    "        city_list.append(city)\n",
    "        \n",
    "        #save the latitude\n",
    "        lat = (response['coord']['lat'])\n",
    "        lat_list.append(lat)\n",
    "        \n",
    "        #save the longitude\n",
    "        long = (response['coord']['lon'])\n",
    "        long_list.append(long)\n",
    "        \n",
    "        #sanity check\n",
    "        #print(lat)\n",
    "        \n",
    "        #save the temperature\n",
    "        max_temp = (response['main']['temp_max'])\n",
    "        max_temp_list.append(max_temp)\n",
    "        \n",
    "        #save the cloudiness\n",
    "        clouds = (response['clouds']['all'])\n",
    "        clouds_list.append(clouds)\n",
    "        \n",
    "        #save the humidity\n",
    "        humidity = (response['main']['humidity'])\n",
    "        humidity_list.append(humidity)\n",
    "        \n",
    "        #save the wind speed\n",
    "        wind = (response['wind']['speed'])\n",
    "        wind_list.append(wind)\n",
    "        \n",
    "        #save the country\n",
    "        country = (response['sys']['country'])\n",
    "        country_list.append(country)\n",
    "        \n",
    "        #save the date\n",
    "        date = (response['dt'])\n",
    "        date_list.append(date)\n",
    "        \n",
    "        #print the record for each city\n",
    "        print(f'Processing Record {cities.index(city) + 1} of Set  | {city}')\n",
    " \n",
    "\n",
    "print(\"-----------------------------\")\n",
    "print(\"Data Retrieval Complete\")      \n",
    "print(\"-----------------------------\")"
   ]
  },
  {
   "cell_type": "markdown",
   "metadata": {},
   "source": [
    "### Convert Raw Data to DataFrame\n",
    "* Export the city data into a .csv.\n",
    "* Display the DataFrame"
   ]
  },
  {
   "cell_type": "code",
   "execution_count": 6,
   "metadata": {},
   "outputs": [],
   "source": [
    "#creating the dictionary for the data frame\n",
    "weather_data = {'city':city_list, 'lat':lat_list, 'lng':long_list, 'Max Temp': max_temp_list, 'Humidity': humidity_list, 'Cloudiness': clouds_list, 'Wind Speed': wind_list, 'Country': country_list, 'Date':date_list}"
   ]
  },
  {
   "cell_type": "code",
   "execution_count": 7,
   "metadata": {},
   "outputs": [],
   "source": [
    "#sanity check\n",
    "#print(len(city_list))\n",
    "#print(len(lat_list))\n",
    "#print(len(long_list))\n",
    "#print(len(max_temp_list))\n",
    "#print(len(humidity_list))\n",
    "#print(len(wind_list))\n",
    "#print(len(date_list))\n",
    "#print(len(clouds_list))\n",
    "#print(len(country_list))"
   ]
  },
  {
   "cell_type": "code",
   "execution_count": 8,
   "metadata": {},
   "outputs": [],
   "source": [
    "#create the weather data frame\n",
    "weather_df = pd.DataFrame(weather_data)"
   ]
  },
  {
   "cell_type": "code",
   "execution_count": 9,
   "metadata": {},
   "outputs": [
    {
     "data": {
      "text/plain": [
       "city          569\n",
       "lat           569\n",
       "lng           569\n",
       "Max Temp      569\n",
       "Humidity      569\n",
       "Cloudiness    569\n",
       "Wind Speed    569\n",
       "Country       569\n",
       "Date          569\n",
       "dtype: int64"
      ]
     },
     "execution_count": 9,
     "metadata": {},
     "output_type": "execute_result"
    }
   ],
   "source": [
    "#sanity check\n",
    "weather_df.count()  "
   ]
  },
  {
   "cell_type": "code",
   "execution_count": 10,
   "metadata": {},
   "outputs": [
    {
     "data": {
      "text/html": [
       "<div>\n",
       "<style scoped>\n",
       "    .dataframe tbody tr th:only-of-type {\n",
       "        vertical-align: middle;\n",
       "    }\n",
       "\n",
       "    .dataframe tbody tr th {\n",
       "        vertical-align: top;\n",
       "    }\n",
       "\n",
       "    .dataframe thead th {\n",
       "        text-align: right;\n",
       "    }\n",
       "</style>\n",
       "<table border=\"1\" class=\"dataframe\">\n",
       "  <thead>\n",
       "    <tr style=\"text-align: right;\">\n",
       "      <th></th>\n",
       "      <th>city</th>\n",
       "      <th>lat</th>\n",
       "      <th>lng</th>\n",
       "      <th>Max Temp</th>\n",
       "      <th>Humidity</th>\n",
       "      <th>Cloudiness</th>\n",
       "      <th>Wind Speed</th>\n",
       "      <th>Country</th>\n",
       "      <th>Date</th>\n",
       "    </tr>\n",
       "  </thead>\n",
       "  <tbody>\n",
       "    <tr>\n",
       "      <th>0</th>\n",
       "      <td>cape town</td>\n",
       "      <td>-33.93</td>\n",
       "      <td>18.42</td>\n",
       "      <td>286.48</td>\n",
       "      <td>93</td>\n",
       "      <td>0</td>\n",
       "      <td>1.50</td>\n",
       "      <td>ZA</td>\n",
       "      <td>1595361700</td>\n",
       "    </tr>\n",
       "    <tr>\n",
       "      <th>1</th>\n",
       "      <td>chengde</td>\n",
       "      <td>40.97</td>\n",
       "      <td>117.94</td>\n",
       "      <td>291.23</td>\n",
       "      <td>71</td>\n",
       "      <td>0</td>\n",
       "      <td>0.56</td>\n",
       "      <td>CN</td>\n",
       "      <td>1595361700</td>\n",
       "    </tr>\n",
       "    <tr>\n",
       "      <th>2</th>\n",
       "      <td>rikitea</td>\n",
       "      <td>-23.12</td>\n",
       "      <td>-134.97</td>\n",
       "      <td>292.21</td>\n",
       "      <td>63</td>\n",
       "      <td>92</td>\n",
       "      <td>8.64</td>\n",
       "      <td>PF</td>\n",
       "      <td>1595360995</td>\n",
       "    </tr>\n",
       "    <tr>\n",
       "      <th>3</th>\n",
       "      <td>hithadhoo</td>\n",
       "      <td>-0.60</td>\n",
       "      <td>73.08</td>\n",
       "      <td>302.00</td>\n",
       "      <td>76</td>\n",
       "      <td>64</td>\n",
       "      <td>4.03</td>\n",
       "      <td>MV</td>\n",
       "      <td>1595361029</td>\n",
       "    </tr>\n",
       "    <tr>\n",
       "      <th>4</th>\n",
       "      <td>sitka</td>\n",
       "      <td>57.05</td>\n",
       "      <td>-135.33</td>\n",
       "      <td>287.15</td>\n",
       "      <td>87</td>\n",
       "      <td>90</td>\n",
       "      <td>2.60</td>\n",
       "      <td>US</td>\n",
       "      <td>1595361168</td>\n",
       "    </tr>\n",
       "    <tr>\n",
       "      <th>...</th>\n",
       "      <td>...</td>\n",
       "      <td>...</td>\n",
       "      <td>...</td>\n",
       "      <td>...</td>\n",
       "      <td>...</td>\n",
       "      <td>...</td>\n",
       "      <td>...</td>\n",
       "      <td>...</td>\n",
       "      <td>...</td>\n",
       "    </tr>\n",
       "    <tr>\n",
       "      <th>564</th>\n",
       "      <td>inuvik</td>\n",
       "      <td>68.35</td>\n",
       "      <td>-133.72</td>\n",
       "      <td>281.15</td>\n",
       "      <td>65</td>\n",
       "      <td>90</td>\n",
       "      <td>3.10</td>\n",
       "      <td>CA</td>\n",
       "      <td>1595361841</td>\n",
       "    </tr>\n",
       "    <tr>\n",
       "      <th>565</th>\n",
       "      <td>klaksvik</td>\n",
       "      <td>62.23</td>\n",
       "      <td>-6.59</td>\n",
       "      <td>284.15</td>\n",
       "      <td>81</td>\n",
       "      <td>0</td>\n",
       "      <td>4.60</td>\n",
       "      <td>FO</td>\n",
       "      <td>1595361764</td>\n",
       "    </tr>\n",
       "    <tr>\n",
       "      <th>566</th>\n",
       "      <td>burgos</td>\n",
       "      <td>42.34</td>\n",
       "      <td>-3.71</td>\n",
       "      <td>292.59</td>\n",
       "      <td>82</td>\n",
       "      <td>20</td>\n",
       "      <td>4.10</td>\n",
       "      <td>ES</td>\n",
       "      <td>1595361841</td>\n",
       "    </tr>\n",
       "    <tr>\n",
       "      <th>567</th>\n",
       "      <td>argentan</td>\n",
       "      <td>48.75</td>\n",
       "      <td>-0.02</td>\n",
       "      <td>290.15</td>\n",
       "      <td>63</td>\n",
       "      <td>0</td>\n",
       "      <td>3.60</td>\n",
       "      <td>FR</td>\n",
       "      <td>1595361842</td>\n",
       "    </tr>\n",
       "    <tr>\n",
       "      <th>568</th>\n",
       "      <td>dunmanway</td>\n",
       "      <td>51.72</td>\n",
       "      <td>-9.12</td>\n",
       "      <td>289.26</td>\n",
       "      <td>82</td>\n",
       "      <td>75</td>\n",
       "      <td>4.60</td>\n",
       "      <td>IE</td>\n",
       "      <td>1595361842</td>\n",
       "    </tr>\n",
       "  </tbody>\n",
       "</table>\n",
       "<p>569 rows × 9 columns</p>\n",
       "</div>"
      ],
      "text/plain": [
       "          city    lat     lng  Max Temp  Humidity  Cloudiness  Wind Speed  \\\n",
       "0    cape town -33.93   18.42    286.48        93           0        1.50   \n",
       "1      chengde  40.97  117.94    291.23        71           0        0.56   \n",
       "2      rikitea -23.12 -134.97    292.21        63          92        8.64   \n",
       "3    hithadhoo  -0.60   73.08    302.00        76          64        4.03   \n",
       "4        sitka  57.05 -135.33    287.15        87          90        2.60   \n",
       "..         ...    ...     ...       ...       ...         ...         ...   \n",
       "564     inuvik  68.35 -133.72    281.15        65          90        3.10   \n",
       "565   klaksvik  62.23   -6.59    284.15        81           0        4.60   \n",
       "566     burgos  42.34   -3.71    292.59        82          20        4.10   \n",
       "567   argentan  48.75   -0.02    290.15        63           0        3.60   \n",
       "568  dunmanway  51.72   -9.12    289.26        82          75        4.60   \n",
       "\n",
       "    Country        Date  \n",
       "0        ZA  1595361700  \n",
       "1        CN  1595361700  \n",
       "2        PF  1595360995  \n",
       "3        MV  1595361029  \n",
       "4        US  1595361168  \n",
       "..      ...         ...  \n",
       "564      CA  1595361841  \n",
       "565      FO  1595361764  \n",
       "566      ES  1595361841  \n",
       "567      FR  1595361842  \n",
       "568      IE  1595361842  \n",
       "\n",
       "[569 rows x 9 columns]"
      ]
     },
     "execution_count": 10,
     "metadata": {},
     "output_type": "execute_result"
    }
   ],
   "source": [
    "#displaying the data frame\n",
    "weather_df"
   ]
  },
  {
   "cell_type": "code",
   "execution_count": 11,
   "metadata": {},
   "outputs": [],
   "source": [
    "#output the file\n",
    "weather_df.to_csv(output_data_file)"
   ]
  },
  {
   "cell_type": "markdown",
   "metadata": {},
   "source": [
    "## Inspect the data and remove the cities where the humidity > 100%.\n",
    "----\n",
    "Skip this step if there are no cities that have humidity > 100%. "
   ]
  },
  {
   "cell_type": "code",
   "execution_count": 12,
   "metadata": {},
   "outputs": [
    {
     "data": {
      "text/html": [
       "<div>\n",
       "<style scoped>\n",
       "    .dataframe tbody tr th:only-of-type {\n",
       "        vertical-align: middle;\n",
       "    }\n",
       "\n",
       "    .dataframe tbody tr th {\n",
       "        vertical-align: top;\n",
       "    }\n",
       "\n",
       "    .dataframe thead th {\n",
       "        text-align: right;\n",
       "    }\n",
       "</style>\n",
       "<table border=\"1\" class=\"dataframe\">\n",
       "  <thead>\n",
       "    <tr style=\"text-align: right;\">\n",
       "      <th></th>\n",
       "      <th>city</th>\n",
       "      <th>lat</th>\n",
       "      <th>lng</th>\n",
       "      <th>Max Temp</th>\n",
       "      <th>Humidity</th>\n",
       "      <th>Cloudiness</th>\n",
       "      <th>Wind Speed</th>\n",
       "      <th>Country</th>\n",
       "      <th>Date</th>\n",
       "    </tr>\n",
       "  </thead>\n",
       "  <tbody>\n",
       "  </tbody>\n",
       "</table>\n",
       "</div>"
      ],
      "text/plain": [
       "Empty DataFrame\n",
       "Columns: [city, lat, lng, Max Temp, Humidity, Cloudiness, Wind Speed, Country, Date]\n",
       "Index: []"
      ]
     },
     "execution_count": 12,
     "metadata": {},
     "output_type": "execute_result"
    }
   ],
   "source": [
    "#check to see if there are cities with humidity greater than 100\n",
    "weather_df[weather_df.Humidity > 100]"
   ]
  },
  {
   "cell_type": "markdown",
   "metadata": {},
   "source": [
    "## Plotting the Data\n",
    "* Use proper labeling of the plots using plot titles (including date of analysis) and axes labels.\n",
    "* Save the plotted figures as .pngs."
   ]
  },
  {
   "cell_type": "markdown",
   "metadata": {},
   "source": [
    "## Latitude vs. Temperature Plot"
   ]
  },
  {
   "cell_type": "code",
   "execution_count": 147,
   "metadata": {},
   "outputs": [
    {
     "data": {
      "image/png": "[encoded data removed]",
      "text/plain": [
       "<Figure size 432x288 with 1 Axes>"
      ]
     },
     "metadata": {
      "needs_background": "light"
     },
     "output_type": "display_data"
    }
   ],
   "source": [
    "#pulling the values to be graphed\n",
    "max_temp_data = weather_df['Max Temp'].tolist()\n",
    "latitude_data = weather_df['lat'].tolist()\n",
    "\n",
    "#convert the temperature data\n",
    "converted_temp = []\n",
    "\n",
    "for item in max_temp_data:\n",
    "    f = (float(item) - 273.15) * 1.8 + 32\n",
    "    converted_temp.append(f)\n",
    "\n",
    "#sanity check\n",
    "#print(max_temp_data)\n",
    "\n",
    "#adding labels\n",
    "plt.xlabel(\"Latitude)\")\n",
    "plt.ylabel(\"Max Temperature (F)\")\n",
    "plt.title(\"City Latitude vs Max Temperature (07/20/20)\")\n",
    "\n",
    "#plotting the graph\n",
    "plt.scatter(latitude_data, converted_temp)\n",
    "\n",
    "#adding a grid\n",
    "plt.grid(True)\n",
    "\n",
    "plt.savefig('output_data/fig1.png')\n",
    "\n",
    "plt.show()"
   ]
  },
  {
   "cell_type": "markdown",
   "metadata": {},
   "source": [
    "## Latitude vs. Humidity Plot"
   ]
  },
  {
   "cell_type": "code",
   "execution_count": 148,
   "metadata": {
    "scrolled": true
   },
   "outputs": [
    {
     "data": {
      "image/png": "[encoded data removed]",
      "text/plain": [
       "<Figure size 432x288 with 1 Axes>"
      ]
     },
     "metadata": {
      "needs_background": "light"
     },
     "output_type": "display_data"
    }
   ],
   "source": [
    "#pulling the values to be graphed\n",
    "humidity_data = weather_df['Humidity'].tolist()\n",
    "\n",
    "#adding labels\n",
    "plt.xlabel(\"Latitude)\")\n",
    "plt.ylabel(\"Humidity\")\n",
    "plt.title(\"City Latitude vs Humidity (07/20/20)\")\n",
    "\n",
    "#plotting the graph\n",
    "plt.scatter(latitude_data, humidity_data)\n",
    "\n",
    "#adding a grid\n",
    "plt.grid(True)\n",
    "\n",
    "plt.savefig('output_data/fig2.png')\n",
    "\n",
    "plt.show()"
   ]
  },
  {
   "cell_type": "markdown",
   "metadata": {},
   "source": [
    "## Latitude vs. Cloudiness Plot"
   ]
  },
  {
   "cell_type": "code",
   "execution_count": 149,
   "metadata": {},
   "outputs": [
    {
     "data": {
      "image/png": "[encoded data removed]",
      "text/plain": [
       "<Figure size 432x288 with 1 Axes>"
      ]
     },
     "metadata": {
      "needs_background": "light"
     },
     "output_type": "display_data"
    }
   ],
   "source": [
    "#pulling the values to be graphed\n",
    "cloud_data = weather_df['Cloudiness'].tolist()\n",
    "\n",
    "#adding labels\n",
    "plt.xlabel(\"Latitude)\")\n",
    "plt.ylabel(\"Cloudiness (%)\")\n",
    "plt.title(\"City Latitude vs Cloudiness (07/20/20)\")\n",
    "\n",
    "#plotting the graph\n",
    "plt.scatter(latitude_data, cloud_data)\n",
    "\n",
    "#adding a grid\n",
    "plt.grid(True)\n",
    "\n",
    "plt.savefig('output_data/fig3.png')\n",
    "\n",
    "plt.show()"
   ]
  },
  {
   "cell_type": "markdown",
   "metadata": {},
   "source": [
    "## Latitude vs. Wind Speed Plot"
   ]
  },
  {
   "cell_type": "code",
   "execution_count": 150,
   "metadata": {},
   "outputs": [
    {
     "data": {
      "image/png": "[encoded data removed]",
      "text/plain": [
       "<Figure size 432x288 with 1 Axes>"
      ]
     },
     "metadata": {
      "needs_background": "light"
     },
     "output_type": "display_data"
    }
   ],
   "source": [
    "#pulling the values to be graphed\n",
    "wind_data = weather_df['Wind Speed'].tolist()\n",
    "\n",
    "#adding labels\n",
    "plt.xlabel(\"Latitude)\")\n",
    "plt.ylabel(\"Wind Speed (mph)\")\n",
    "plt.title(\"City Latitude vs Wind Speed (07/20/20)\")\n",
    "\n",
    "#plotting the graph\n",
    "plt.scatter(latitude_data, wind_data)\n",
    "\n",
    "#adding a grid\n",
    "plt.grid(True)\n",
    "\n",
    "plt.savefig('output_data/fig4.png')\n",
    "\n",
    "plt.show()"
   ]
  },
  {
   "cell_type": "markdown",
   "metadata": {},
   "source": [
    "## Linear Regression"
   ]
  },
  {
   "cell_type": "code",
   "execution_count": 17,
   "metadata": {},
   "outputs": [],
   "source": [
    "# Create Northern and Southern Hemisphere DataFrames\n",
    "northern_df = weather_df[weather_df.lat >= 0]\n",
    "southern_df = weather_df[weather_df.lat < 0]\n",
    "\n",
    "#sanity check\n",
    "#northern_df"
   ]
  },
  {
   "cell_type": "markdown",
   "metadata": {},
   "source": [
    "####  Northern Hemisphere - Max Temp vs. Latitude Linear Regression"
   ]
  },
  {
   "cell_type": "code",
   "execution_count": 152,
   "metadata": {},
   "outputs": [
    {
     "name": "stdout",
     "output_type": "stream",
     "text": [
      "The r-squared is: 0.4778964453257607\n"
     ]
    },
    {
     "data": {
      "image/png": "[encoded data removed]",
      "text/plain": [
       "<Figure size 432x288 with 1 Axes>"
      ]
     },
     "metadata": {
      "needs_background": "light"
     },
     "output_type": "display_data"
    }
   ],
   "source": [
    "#xvalues\n",
    "x_values = northern_df['lat']\n",
    "\n",
    "#convert the temperature data\n",
    "north_converted_temp = []\n",
    "\n",
    "for item in northern_df['Max Temp']:\n",
    "    f = (float(item) - 273.15) * 1.8 + 32\n",
    "    north_converted_temp.append(f)\n",
    "\n",
    "#yvalues\n",
    "y_values = north_converted_temp\n",
    "\n",
    "\n",
    "(slope, intercept, rvalue, pvalue, stderr) = linregress(x_values,y_values)\n",
    "regress_values = x_values * slope + intercept\n",
    "line_eq = \"y = \" + str(round(slope,2)) + \"x + \" + str(round(intercept,2))\n",
    "\n",
    "#print the r squared value\n",
    "print(f'The r-squared is: {rvalue**2}')\n",
    "\n",
    "#make the scatter plot\n",
    "plt.scatter(x_values,y_values, c='blue')\n",
    "\n",
    "#plot the \n",
    "plt.plot(x_values,regress_values,\"r-\")\n",
    "plt.annotate(line_eq,(10,40),fontsize=15,color=\"red\")\n",
    "\n",
    "#add labels and a title\n",
    "plt.xlabel('Latitude')\n",
    "plt.ylabel('Max Temp')\n",
    "\n",
    "#plot it\n",
    "plt.show()"
   ]
  },
  {
   "cell_type": "markdown",
   "metadata": {},
   "source": [
    "####  Southern Hemisphere - Max Temp vs. Latitude Linear Regression"
   ]
  },
  {
   "cell_type": "code",
   "execution_count": 153,
   "metadata": {},
   "outputs": [
    {
     "name": "stdout",
     "output_type": "stream",
     "text": [
      "The r-squared is: 0.6103415490219001\n"
     ]
    },
    {
     "data": {
      "image/png": "[encoded data removed]",
      "text/plain": [
       "<Figure size 432x288 with 1 Axes>"
      ]
     },
     "metadata": {
      "needs_background": "light"
     },
     "output_type": "display_data"
    }
   ],
   "source": [
    "#xvalues\n",
    "x_values = southern_df['lat']\n",
    "\n",
    "#convert the temperature data\n",
    "south_converted_temp = []\n",
    "\n",
    "for item in southern_df['Max Temp']:\n",
    "    f = (float(item) - 273.15) * 1.8 + 32\n",
    "    south_converted_temp.append(f)\n",
    "\n",
    "#yvalues\n",
    "y_values = south_converted_temp\n",
    "\n",
    "\n",
    "(slope, intercept, rvalue, pvalue, stderr) = linregress(x_values,y_values)\n",
    "regress_values = x_values * slope + intercept\n",
    "line_eq = \"y = \" + str(round(slope,2)) + \"x + \" + str(round(intercept,2))\n",
    "\n",
    "#print the r squared value\n",
    "print(f'The r-squared is: {rvalue**2}')\n",
    "\n",
    "#make the scatter plot\n",
    "plt.scatter(x_values,y_values, c='blue')\n",
    "\n",
    "#plot the \n",
    "plt.plot(x_values,regress_values,\"r-\")\n",
    "plt.annotate(line_eq,(-50,90),fontsize=15,color=\"red\")\n",
    "\n",
    "#add labels and a title\n",
    "plt.xlabel('Latitude')\n",
    "plt.ylabel('Max Temp')\n",
    "\n",
    "#plot it\n",
    "plt.show()"
   ]
  },
  {
   "cell_type": "markdown",
   "metadata": {},
   "source": [
    "####  Northern Hemisphere - Humidity (%) vs. Latitude Linear Regression"
   ]
  },
  {
   "cell_type": "code",
   "execution_count": 154,
   "metadata": {},
   "outputs": [
    {
     "name": "stdout",
     "output_type": "stream",
     "text": [
      "The r-squared is: 0.00027929451744265505\n"
     ]
    },
    {
     "data": {
      "image/png": "[encoded data removed]",
      "text/plain": [
       "<Figure size 432x288 with 1 Axes>"
      ]
     },
     "metadata": {
      "needs_background": "light"
     },
     "output_type": "display_data"
    }
   ],
   "source": [
    "#xvalues\n",
    "x_values = northern_df['lat']\n",
    "\n",
    "#yvalues\n",
    "y_values = northern_df['Humidity']\n",
    "\n",
    "\n",
    "(slope, intercept, rvalue, pvalue, stderr) = linregress(x_values,y_values)\n",
    "regress_values = x_values * slope + intercept\n",
    "line_eq = \"y = \" + str(round(slope,2)) + \"x + \" + str(round(intercept,2))\n",
    "\n",
    "#print the r squared value\n",
    "print(f'The r-squared is: {rvalue**2}')\n",
    "\n",
    "#make the scatter plot\n",
    "plt.scatter(x_values,y_values, c='blue')\n",
    "\n",
    "#plot the \n",
    "plt.plot(x_values,regress_values,\"r-\")\n",
    "plt.annotate(line_eq,(45,20),fontsize=15,color=\"red\")\n",
    "\n",
    "#add labels and a title\n",
    "plt.xlabel('Latitude')\n",
    "plt.ylabel('Humidity')\n",
    "\n",
    "#plot it\n",
    "plt.show()"
   ]
  },
  {
   "cell_type": "markdown",
   "metadata": {},
   "source": [
    "####  Southern Hemisphere - Humidity (%) vs. Latitude Linear Regression"
   ]
  },
  {
   "cell_type": "code",
   "execution_count": 155,
   "metadata": {},
   "outputs": [
    {
     "name": "stdout",
     "output_type": "stream",
     "text": [
      "The r-squared is: 0.03279159355568102\n"
     ]
    },
    {
     "data": {
      "image/png": "[encoded data removed]",
      "text/plain": [
       "<Figure size 432x288 with 1 Axes>"
      ]
     },
     "metadata": {
      "needs_background": "light"
     },
     "output_type": "display_data"
    }
   ],
   "source": [
    "#xvalues\n",
    "x_values = southern_df['lat']\n",
    "\n",
    "#yvalues\n",
    "y_values = southern_df['Humidity']\n",
    "\n",
    "\n",
    "(slope, intercept, rvalue, pvalue, stderr) = linregress(x_values,y_values)\n",
    "regress_values = x_values * slope + intercept\n",
    "line_eq = \"y = \" + str(round(slope,2)) + \"x + \" + str(round(intercept,2))\n",
    "\n",
    "#print the r squared value\n",
    "print(f'The r-squared is: {rvalue**2}')\n",
    "\n",
    "#make the scatter plot\n",
    "plt.scatter(x_values,y_values, c='blue')\n",
    "\n",
    "#plot the \n",
    "plt.plot(x_values,regress_values,\"r-\")\n",
    "plt.annotate(line_eq,(-55,20),fontsize=15,color=\"red\")\n",
    "\n",
    "#add labels and a title\n",
    "plt.xlabel('Latitude')\n",
    "plt.ylabel('Humidity')\n",
    "\n",
    "#plot it\n",
    "plt.show()"
   ]
  },
  {
   "cell_type": "markdown",
   "metadata": {},
   "source": [
    "####  Northern Hemisphere - Cloudiness (%) vs. Latitude Linear Regression"
   ]
  },
  {
   "cell_type": "code",
   "execution_count": 156,
   "metadata": {},
   "outputs": [
    {
     "name": "stdout",
     "output_type": "stream",
     "text": [
      "The r-squared is: 0.00022189713964187248\n"
     ]
    },
    {
     "data": {
      "image/png": "[encoded data removed]",
      "text/plain": [
       "<Figure size 432x288 with 1 Axes>"
      ]
     },
     "metadata": {
      "needs_background": "light"
     },
     "output_type": "display_data"
    }
   ],
   "source": [
    "#xvalues\n",
    "x_values = northern_df['lat']\n",
    "\n",
    "#yvalues\n",
    "y_values = northern_df['Cloudiness']\n",
    "\n",
    "\n",
    "(slope, intercept, rvalue, pvalue, stderr) = linregress(x_values,y_values)\n",
    "regress_values = x_values * slope + intercept\n",
    "line_eq = \"y = \" + str(round(slope,2)) + \"x + \" + str(round(intercept,2))\n",
    "\n",
    "#print the r squared value\n",
    "print(f'The r-squared is: {rvalue**2}')\n",
    "\n",
    "#make the scatter plot\n",
    "plt.scatter(x_values,y_values, c='blue')\n",
    "\n",
    "#plot the \n",
    "plt.plot(x_values,regress_values,\"r-\")\n",
    "plt.annotate(line_eq,(40,55),fontsize=15,color=\"red\")\n",
    "\n",
    "#add labels and a title\n",
    "plt.xlabel('Latitude')\n",
    "plt.ylabel('Cloudiness')\n",
    "\n",
    "#plot it\n",
    "plt.show()"
   ]
  },
  {
   "cell_type": "markdown",
   "metadata": {},
   "source": [
    "####  Southern Hemisphere - Cloudiness (%) vs. Latitude Linear Regression"
   ]
  },
  {
   "cell_type": "code",
   "execution_count": 157,
   "metadata": {},
   "outputs": [
    {
     "name": "stdout",
     "output_type": "stream",
     "text": [
      "The r-squared is: 0.02559192641760159\n"
     ]
    },
    {
     "data": {
      "image/png": "[encoded data removed]",
      "text/plain": [
       "<Figure size 432x288 with 1 Axes>"
      ]
     },
     "metadata": {
      "needs_background": "light"
     },
     "output_type": "display_data"
    }
   ],
   "source": [
    "#xvalues\n",
    "x_values = southern_df['lat']\n",
    "\n",
    "#yvalues\n",
    "y_values = southern_df['Cloudiness']\n",
    "\n",
    "\n",
    "(slope, intercept, rvalue, pvalue, stderr) = linregress(x_values,y_values)\n",
    "regress_values = x_values * slope + intercept\n",
    "line_eq = \"y = \" + str(round(slope,2)) + \"x + \" + str(round(intercept,2))\n",
    "\n",
    "#print the r squared value\n",
    "print(f'The r-squared is: {rvalue**2}')\n",
    "\n",
    "#make the scatter plot\n",
    "plt.scatter(x_values,y_values, c='blue')\n",
    "\n",
    "#plot the \n",
    "plt.plot(x_values,regress_values,\"r-\")\n",
    "plt.annotate(line_eq,(-55, 15),fontsize=15,color=\"red\")\n",
    "\n",
    "#add labels and a title\n",
    "plt.xlabel('Latitude')\n",
    "plt.ylabel('Cloudiness')\n",
    "\n",
    "#plot it\n",
    "plt.show()"
   ]
  },
  {
   "cell_type": "markdown",
   "metadata": {},
   "source": [
    "####  Northern Hemisphere - Wind Speed (mph) vs. Latitude Linear Regression"
   ]
  },
  {
   "cell_type": "code",
   "execution_count": 158,
   "metadata": {},
   "outputs": [
    {
     "name": "stdout",
     "output_type": "stream",
     "text": [
      "The r-squared is: 0.0009519935148028302\n"
     ]
    },
    {
     "data": {
      "image/png": "[encoded data removed]",
      "text/plain": [
       "<Figure size 432x288 with 1 Axes>"
      ]
     },
     "metadata": {
      "needs_background": "light"
     },
     "output_type": "display_data"
    }
   ],
   "source": [
    "#xvalues\n",
    "x_values = northern_df['lat']\n",
    "\n",
    "#yvalues\n",
    "y_values = northern_df['Wind Speed']\n",
    "\n",
    "\n",
    "(slope, intercept, rvalue, pvalue, stderr) = linregress(x_values,y_values)\n",
    "regress_values = x_values * slope + intercept\n",
    "line_eq = \"y = \" + str(round(slope,2)) + \"x + \" + str(round(intercept,2))\n",
    "\n",
    "#print the r squared value\n",
    "print(f'The r-squared is: {rvalue**2}')\n",
    "\n",
    "#make the scatter plot\n",
    "plt.scatter(x_values,y_values, c='blue')\n",
    "\n",
    "#plot the \n",
    "plt.plot(x_values,regress_values,\"r-\")\n",
    "plt.annotate(line_eq,(40,14),fontsize=15,color=\"red\")\n",
    "\n",
    "#add labels and a title\n",
    "plt.xlabel('Latitude')\n",
    "plt.ylabel('Wind Speed')\n",
    "\n",
    "#plot it\n",
    "plt.show()"
   ]
  },
  {
   "cell_type": "markdown",
   "metadata": {},
   "source": [
    "####  Southern Hemisphere - Wind Speed (mph) vs. Latitude Linear Regression"
   ]
  },
  {
   "cell_type": "code",
   "execution_count": 159,
   "metadata": {},
   "outputs": [
    {
     "name": "stdout",
     "output_type": "stream",
     "text": [
      "The r-squared is: 0.010603997194212388\n"
     ]
    },
    {
     "data": {
      "image/png": "[encoded data removed]",
      "text/plain": [
       "<Figure size 432x288 with 1 Axes>"
      ]
     },
     "metadata": {
      "needs_background": "light"
     },
     "output_type": "display_data"
    }
   ],
   "source": [
    "#xvalues\n",
    "x_values = southern_df['lat']\n",
    "\n",
    "#yvalues\n",
    "y_values = southern_df['Wind Speed']\n",
    "\n",
    "\n",
    "(slope, intercept, rvalue, pvalue, stderr) = linregress(x_values,y_values)\n",
    "regress_values = x_values * slope + intercept\n",
    "line_eq = \"y = \" + str(round(slope,2)) + \"x + \" + str(round(intercept,2))\n",
    "\n",
    "#print the r squared value\n",
    "print(f'The r-squared is: {rvalue**2}')\n",
    "\n",
    "#make the scatter plot\n",
    "plt.scatter(x_values,y_values, c='blue')\n",
    "\n",
    "#plot the \n",
    "plt.plot(x_values,regress_values,\"r-\")\n",
    "plt.annotate(line_eq,(-50, 12),fontsize=15,color=\"red\")\n",
    "\n",
    "#add labels and a title\n",
    "plt.xlabel('Latitude')\n",
    "plt.ylabel('Wind Speed')\n",
    "\n",
    "#plot it\n",
    "plt.show()"
   ]
  }
 ],
 "metadata": {
  "anaconda-cloud": {},
  "kernel_info": {
   "name": "python3"
  },
  "kernelspec": {
   "display_name": "Python 3",
   "language": "python",
   "name": "python3"
  },
  "language_info": {
   "codemirror_mode": {
    "name": "ipython",
    "version": 3
   },
   "file_extension": ".py",
   "mimetype": "text/x-python",
   "name": "python",
   "nbconvert_exporter": "python",
   "pygments_lexer": "ipython3",
   "version": "3.6.10"
  },
  "latex_envs": {
   "LaTeX_envs_menu_present": true,
   "autoclose": false,
   "autocomplete": true,
   "bibliofile": "biblio.bib",
   "cite_by": "apalike",
   "current_citInitial": 1,
   "eqLabelWithNumbers": true,
   "eqNumInitial": 1,
   "hotkeys": {
    "equation": "Ctrl-E",
    "itemize": "Ctrl-I"
   },
   "labels_anchors": false,
   "latex_user_defs": false,
   "report_style_numbering": false,
   "user_envs_cfg": false
  },
  "nteract": {
   "version": "0.12.3"
  }
 },
 "nbformat": 4,
 "nbformat_minor": 2
}
